{
 "cells": [
  {
   "cell_type": "markdown",
   "id": "57b1b98b",
   "metadata": {},
   "source": [
    "# PA 1: Exploratory Analysis over Dataset_R"
   ]
  },
  {
   "cell_type": "markdown",
   "id": "dc0fa2bc",
   "metadata": {},
   "source": [
    "## Student Details\n",
    "\n",
    "Student Name and ID: \n",
    "\n",
    "Grandhi, Jwala Sai Akhil ( 1002027479 )\n",
    "Ingole, Mihir ( 1001944724 )\n",
    "Kandimalla, Devi Sri Haritha Lakshmi Pravallika( 1002033072 )\n",
    "\n",
    "Notes:\n",
    "When submitting, fill your name and ID in this cell. Note that this is a markdown cell!\n",
    "Do not make any changes in the dataset file and do not rename the 'dataset_python.csv'.\n",
    "Rename your submission file to <b> 'yourLastName_Last4digitsofyourID_PA1.ipynb' </b>.\n",
    "Do not to forget to cite any external sources used by you.\n",
    "<b>[2.5 points]</b>"
   ]
  },
  {
   "cell_type": "markdown",
   "id": "186c50f0",
   "metadata": {},
   "source": [
    " ## Assignment Details\n",
    "\n",
    "In this assignment, you will explore, manipulate and play with the data.\n",
    "\n",
    "You will prepare a report with the following outline for each one of the dataset. Look at the following Example.\n",
    "\n",
    "1.\tIntroduction\n",
    "\n",
    "2.\tRetrieving the Data\n",
    "\n",
    "3.\tGlimpse of Data\n",
    "\n",
    "4.\tCheck for missing data\n",
    "\n",
    "5.\tData Exploration\n",
    "\n",
    "6.  Include a paragraph describing the contribution made by each team member\n",
    "\n",
    "\n",
    "You will learn and use some of the most common exploration/aggregation/descriptive operations. This should also help you learn most of the key functionalities in Python, Weka and R. DO Task 1, Task 2, Task 3, Task 4 using Python, Weka, R.\n",
    " \n",
    "**Out of the 3 datasets listed below:**\n",
    "\n",
    "**1. Dataset_python should be solved using Python in Jupyter notebook only.**\n",
    "\n",
    "**2. Dataset_Weka using WEKA**\n",
    "\n",
    "**3. Dataset_R using R**\n",
    "\n",
    "\n",
    "You will also learn how to use visualization libraries to identify patterns in data that will help in your further data analysis. You will also explore most popular chart types and how to use different libraries and styles to make your visualizations more attractive."
   ]
  },
  {
   "cell_type": "markdown",
   "id": "7a239162",
   "metadata": {},
   "source": [
    "# Dataset Details\n",
    "\n",
    "In this assignment, you will work on dataset_R. The columns of the data-set are:\n",
    "\n",
    "- Loan Status - Loan approved (Y/N)\n",
    "- Loan_ID - Unique Loan ID\n",
    "- Gender - Male/ Female\n",
    "- Married - Applicant married (Y/N)\n",
    "- Dependents - Number of dependents\n",
    "- Education Applicant - Education (Graduate/ Under Graduate)\n",
    "- Self_Employed Self - employed (Y/N)\n",
    "- ApplicantIncome - Applicant income\n",
    "- CoapplicantIncome - Coapplicant income\n",
    "- LoanAmount - Loan amount in thousands\n",
    "- Loan_Amount_Term - Term of loan in months\n",
    "- Credit_History - credit history meets guidelines\n",
    "- Property_Area - Urban/ Semi Urban/ Rural)"
   ]
  },
  {
   "cell_type": "code",
   "execution_count": 2,
   "id": "61df63bf",
   "metadata": {
    "scrolled": true
   },
   "outputs": [
    {
     "name": "stderr",
     "output_type": "stream",
     "text": [
      "\n",
      "Attaching package: 'dplyr'\n",
      "\n",
      "The following objects are masked from 'package:pastecs':\n",
      "\n",
      "    first, last\n",
      "\n",
      "The following objects are masked from 'package:stats':\n",
      "\n",
      "    filter, lag\n",
      "\n",
      "The following objects are masked from 'package:base':\n",
      "\n",
      "    intersect, setdiff, setequal, union\n",
      "\n",
      "Registered S3 methods overwritten by 'ggplot2':\n",
      "  method         from \n",
      "  [.quosures     rlang\n",
      "  c.quosures     rlang\n",
      "  print.quosures rlang\n"
     ]
    }
   ],
   "source": [
    "# Import R packages \n",
    "\n",
    "\n",
    "#install.packages(\"pastecs\")\n",
    "#install.packages(\"ggplot2\", dependencies=TRUE)\n",
    "library(pastecs)\n",
    "library(caTools)\n",
    "library(dplyr)\n",
    "library(ggplot2)\n"
   ]
  },
  {
   "cell_type": "code",
   "execution_count": 5,
   "id": "47ee6142",
   "metadata": {},
   "outputs": [],
   "source": [
    "# Read the file\n",
    "\n",
    "df <- read.csv('dataset_R.csv')\n",
    "\n",
    "#View(df)\n"
   ]
  },
  {
   "cell_type": "code",
   "execution_count": 6,
   "id": "b21115a1",
   "metadata": {},
   "outputs": [
    {
     "data": {
      "text/html": [
       "<table>\n",
       "<thead><tr><th scope=col>Loan_ID</th><th scope=col>Gender</th><th scope=col>Married</th><th scope=col>Dependents</th><th scope=col>Education</th><th scope=col>Self_Employed</th><th scope=col>ApplicantIncome</th><th scope=col>CoapplicantIncome</th><th scope=col>LoanAmount</th><th scope=col>Loan_Amount_Term</th><th scope=col>Credit_History</th><th scope=col>Property_Area</th><th scope=col>Loan_Status</th></tr></thead>\n",
       "<tbody>\n",
       "\t<tr><td>LP001002    </td><td>Male        </td><td>No          </td><td>0           </td><td>Graduate    </td><td>No          </td><td>5849        </td><td>   0        </td><td> NA         </td><td>360         </td><td>1           </td><td>Urban       </td><td>Y           </td></tr>\n",
       "\t<tr><td>LP001003    </td><td>Male        </td><td>Yes         </td><td>1           </td><td>Graduate    </td><td>No          </td><td>4583        </td><td>1508        </td><td>128         </td><td>360         </td><td>1           </td><td>Rural       </td><td>N           </td></tr>\n",
       "\t<tr><td>LP001005    </td><td>Male        </td><td>Yes         </td><td>0           </td><td>Graduate    </td><td>Yes         </td><td>3000        </td><td>   0        </td><td> 66         </td><td>360         </td><td>1           </td><td>Urban       </td><td>Y           </td></tr>\n",
       "\t<tr><td>LP001006    </td><td>Male        </td><td>Yes         </td><td>0           </td><td>Not Graduate</td><td>No          </td><td>2583        </td><td>2358        </td><td>120         </td><td>360         </td><td>1           </td><td>Urban       </td><td>Y           </td></tr>\n",
       "\t<tr><td>LP001008    </td><td>Male        </td><td>No          </td><td>0           </td><td>Graduate    </td><td>No          </td><td>6000        </td><td>   0        </td><td>141         </td><td>360         </td><td>1           </td><td>Urban       </td><td>Y           </td></tr>\n",
       "</tbody>\n",
       "</table>\n"
      ],
      "text/latex": [
       "\\begin{tabular}{r|lllllllllllll}\n",
       " Loan\\_ID & Gender & Married & Dependents & Education & Self\\_Employed & ApplicantIncome & CoapplicantIncome & LoanAmount & Loan\\_Amount\\_Term & Credit\\_History & Property\\_Area & Loan\\_Status\\\\\n",
       "\\hline\n",
       "\t LP001002     & Male         & No           & 0            & Graduate     & No           & 5849         &    0         &  NA          & 360          & 1            & Urban        & Y           \\\\\n",
       "\t LP001003     & Male         & Yes          & 1            & Graduate     & No           & 4583         & 1508         & 128          & 360          & 1            & Rural        & N           \\\\\n",
       "\t LP001005     & Male         & Yes          & 0            & Graduate     & Yes          & 3000         &    0         &  66          & 360          & 1            & Urban        & Y           \\\\\n",
       "\t LP001006     & Male         & Yes          & 0            & Not Graduate & No           & 2583         & 2358         & 120          & 360          & 1            & Urban        & Y           \\\\\n",
       "\t LP001008     & Male         & No           & 0            & Graduate     & No           & 6000         &    0         & 141          & 360          & 1            & Urban        & Y           \\\\\n",
       "\\end{tabular}\n"
      ],
      "text/markdown": [
       "\n",
       "| Loan_ID | Gender | Married | Dependents | Education | Self_Employed | ApplicantIncome | CoapplicantIncome | LoanAmount | Loan_Amount_Term | Credit_History | Property_Area | Loan_Status |\n",
       "|---|---|---|---|---|---|---|---|---|---|---|---|---|\n",
       "| LP001002     | Male         | No           | 0            | Graduate     | No           | 5849         |    0         |  NA          | 360          | 1            | Urban        | Y            |\n",
       "| LP001003     | Male         | Yes          | 1            | Graduate     | No           | 4583         | 1508         | 128          | 360          | 1            | Rural        | N            |\n",
       "| LP001005     | Male         | Yes          | 0            | Graduate     | Yes          | 3000         |    0         |  66          | 360          | 1            | Urban        | Y            |\n",
       "| LP001006     | Male         | Yes          | 0            | Not Graduate | No           | 2583         | 2358         | 120          | 360          | 1            | Urban        | Y            |\n",
       "| LP001008     | Male         | No           | 0            | Graduate     | No           | 6000         |    0         | 141          | 360          | 1            | Urban        | Y            |\n",
       "\n"
      ],
      "text/plain": [
       "  Loan_ID  Gender Married Dependents Education    Self_Employed ApplicantIncome\n",
       "1 LP001002 Male   No      0          Graduate     No            5849           \n",
       "2 LP001003 Male   Yes     1          Graduate     No            4583           \n",
       "3 LP001005 Male   Yes     0          Graduate     Yes           3000           \n",
       "4 LP001006 Male   Yes     0          Not Graduate No            2583           \n",
       "5 LP001008 Male   No      0          Graduate     No            6000           \n",
       "  CoapplicantIncome LoanAmount Loan_Amount_Term Credit_History Property_Area\n",
       "1    0               NA        360              1              Urban        \n",
       "2 1508              128        360              1              Rural        \n",
       "3    0               66        360              1              Urban        \n",
       "4 2358              120        360              1              Urban        \n",
       "5    0              141        360              1              Urban        \n",
       "  Loan_Status\n",
       "1 Y          \n",
       "2 N          \n",
       "3 Y          \n",
       "4 Y          \n",
       "5 Y          "
      ]
     },
     "metadata": {},
     "output_type": "display_data"
    }
   ],
   "source": [
    "# return the first 5 rows of the dataset\n",
    "\n",
    "head(df,5)\n"
   ]
  },
  {
   "cell_type": "markdown",
   "id": "f7923d25",
   "metadata": {},
   "source": [
    "# Task 1: Statistical Exploratory Data Analysis(17.5 points)"
   ]
  },
  {
   "cell_type": "code",
   "execution_count": 7,
   "id": "35780b26",
   "metadata": {},
   "outputs": [
    {
     "data": {
      "text/html": [
       "614"
      ],
      "text/latex": [
       "614"
      ],
      "text/markdown": [
       "614"
      ],
      "text/plain": [
       "[1] 614"
      ]
     },
     "metadata": {},
     "output_type": "display_data"
    },
    {
     "data": {
      "text/html": [
       "13"
      ],
      "text/latex": [
       "13"
      ],
      "text/markdown": [
       "13"
      ],
      "text/plain": [
       "[1] 13"
      ]
     },
     "metadata": {},
     "output_type": "display_data"
    },
    {
     "data": {
      "text/html": [],
      "text/latex": [],
      "text/markdown": [],
      "text/plain": [
       "integer(0)"
      ]
     },
     "metadata": {},
     "output_type": "display_data"
    },
    {
     "data": {
      "text/html": [
       "0"
      ],
      "text/latex": [
       "0"
      ],
      "text/markdown": [
       "0"
      ],
      "text/plain": [
       "[1] 0"
      ]
     },
     "metadata": {},
     "output_type": "display_data"
    },
    {
     "data": {
      "text/html": [
       "<ol class=list-inline>\n",
       "\t<li>24</li>\n",
       "\t<li>127</li>\n",
       "\t<li>172</li>\n",
       "\t<li>189</li>\n",
       "\t<li>315</li>\n",
       "\t<li>335</li>\n",
       "\t<li>461</li>\n",
       "\t<li>468</li>\n",
       "\t<li>478</li>\n",
       "\t<li>508</li>\n",
       "\t<li>577</li>\n",
       "\t<li>589</li>\n",
       "\t<li>593</li>\n",
       "</ol>\n"
      ],
      "text/latex": [
       "\\begin{enumerate*}\n",
       "\\item 24\n",
       "\\item 127\n",
       "\\item 172\n",
       "\\item 189\n",
       "\\item 315\n",
       "\\item 335\n",
       "\\item 461\n",
       "\\item 468\n",
       "\\item 478\n",
       "\\item 508\n",
       "\\item 577\n",
       "\\item 589\n",
       "\\item 593\n",
       "\\end{enumerate*}\n"
      ],
      "text/markdown": [
       "1. 24\n",
       "2. 127\n",
       "3. 172\n",
       "4. 189\n",
       "5. 315\n",
       "6. 335\n",
       "7. 461\n",
       "8. 468\n",
       "9. 478\n",
       "10. 508\n",
       "11. 577\n",
       "12. 589\n",
       "13. 593\n",
       "\n",
       "\n"
      ],
      "text/plain": [
       " [1]  24 127 172 189 315 335 461 468 478 508 577 589 593"
      ]
     },
     "metadata": {},
     "output_type": "display_data"
    },
    {
     "data": {
      "text/html": [
       "13"
      ],
      "text/latex": [
       "13"
      ],
      "text/markdown": [
       "13"
      ],
      "text/plain": [
       "[1] 13"
      ]
     },
     "metadata": {},
     "output_type": "display_data"
    },
    {
     "data": {
      "text/html": [
       "<ol class=list-inline>\n",
       "\t<li>105</li>\n",
       "\t<li>229</li>\n",
       "\t<li>436</li>\n",
       "</ol>\n"
      ],
      "text/latex": [
       "\\begin{enumerate*}\n",
       "\\item 105\n",
       "\\item 229\n",
       "\\item 436\n",
       "\\end{enumerate*}\n"
      ],
      "text/markdown": [
       "1. 105\n",
       "2. 229\n",
       "3. 436\n",
       "\n",
       "\n"
      ],
      "text/plain": [
       "[1] 105 229 436"
      ]
     },
     "metadata": {},
     "output_type": "display_data"
    },
    {
     "data": {
      "text/html": [
       "3"
      ],
      "text/latex": [
       "3"
      ],
      "text/markdown": [
       "3"
      ],
      "text/plain": [
       "[1] 3"
      ]
     },
     "metadata": {},
     "output_type": "display_data"
    },
    {
     "data": {
      "text/html": [
       "<ol class=list-inline>\n",
       "\t<li>103</li>\n",
       "\t<li>105</li>\n",
       "\t<li>121</li>\n",
       "\t<li>227</li>\n",
       "\t<li>229</li>\n",
       "\t<li>294</li>\n",
       "\t<li>302</li>\n",
       "\t<li>333</li>\n",
       "\t<li>336</li>\n",
       "\t<li>347</li>\n",
       "\t<li>356</li>\n",
       "\t<li>436</li>\n",
       "\t<li>518</li>\n",
       "\t<li>572</li>\n",
       "\t<li>598</li>\n",
       "</ol>\n"
      ],
      "text/latex": [
       "\\begin{enumerate*}\n",
       "\\item 103\n",
       "\\item 105\n",
       "\\item 121\n",
       "\\item 227\n",
       "\\item 229\n",
       "\\item 294\n",
       "\\item 302\n",
       "\\item 333\n",
       "\\item 336\n",
       "\\item 347\n",
       "\\item 356\n",
       "\\item 436\n",
       "\\item 518\n",
       "\\item 572\n",
       "\\item 598\n",
       "\\end{enumerate*}\n"
      ],
      "text/markdown": [
       "1. 103\n",
       "2. 105\n",
       "3. 121\n",
       "4. 227\n",
       "5. 229\n",
       "6. 294\n",
       "7. 302\n",
       "8. 333\n",
       "9. 336\n",
       "10. 347\n",
       "11. 356\n",
       "12. 436\n",
       "13. 518\n",
       "14. 572\n",
       "15. 598\n",
       "\n",
       "\n"
      ],
      "text/plain": [
       " [1] 103 105 121 227 229 294 302 333 336 347 356 436 518 572 598"
      ]
     },
     "metadata": {},
     "output_type": "display_data"
    },
    {
     "data": {
      "text/html": [
       "15"
      ],
      "text/latex": [
       "15"
      ],
      "text/markdown": [
       "15"
      ],
      "text/plain": [
       "[1] 15"
      ]
     },
     "metadata": {},
     "output_type": "display_data"
    },
    {
     "data": {
      "text/html": [],
      "text/latex": [],
      "text/markdown": [],
      "text/plain": [
       "integer(0)"
      ]
     },
     "metadata": {},
     "output_type": "display_data"
    },
    {
     "data": {
      "text/html": [
       "0"
      ],
      "text/latex": [
       "0"
      ],
      "text/markdown": [
       "0"
      ],
      "text/plain": [
       "[1] 0"
      ]
     },
     "metadata": {},
     "output_type": "display_data"
    },
    {
     "data": {
      "text/html": [
       "<ol class=list-inline>\n",
       "\t<li>12</li>\n",
       "\t<li>20</li>\n",
       "\t<li>25</li>\n",
       "\t<li>30</li>\n",
       "\t<li>31</li>\n",
       "\t<li>96</li>\n",
       "\t<li>108</li>\n",
       "\t<li>112</li>\n",
       "\t<li>115</li>\n",
       "\t<li>159</li>\n",
       "\t<li>171</li>\n",
       "\t<li>219</li>\n",
       "\t<li>232</li>\n",
       "\t<li>237</li>\n",
       "\t<li>269</li>\n",
       "\t<li>296</li>\n",
       "\t<li>334</li>\n",
       "\t<li>337</li>\n",
       "\t<li>345</li>\n",
       "\t<li>375</li>\n",
       "\t<li>381</li>\n",
       "\t<li>386</li>\n",
       "\t<li>412</li>\n",
       "\t<li>433</li>\n",
       "\t<li>448</li>\n",
       "\t<li>464</li>\n",
       "\t<li>469</li>\n",
       "\t<li>536</li>\n",
       "\t<li>543</li>\n",
       "\t<li>580</li>\n",
       "\t<li>601</li>\n",
       "\t<li>602</li>\n",
       "</ol>\n"
      ],
      "text/latex": [
       "\\begin{enumerate*}\n",
       "\\item 12\n",
       "\\item 20\n",
       "\\item 25\n",
       "\\item 30\n",
       "\\item 31\n",
       "\\item 96\n",
       "\\item 108\n",
       "\\item 112\n",
       "\\item 115\n",
       "\\item 159\n",
       "\\item 171\n",
       "\\item 219\n",
       "\\item 232\n",
       "\\item 237\n",
       "\\item 269\n",
       "\\item 296\n",
       "\\item 334\n",
       "\\item 337\n",
       "\\item 345\n",
       "\\item 375\n",
       "\\item 381\n",
       "\\item 386\n",
       "\\item 412\n",
       "\\item 433\n",
       "\\item 448\n",
       "\\item 464\n",
       "\\item 469\n",
       "\\item 536\n",
       "\\item 543\n",
       "\\item 580\n",
       "\\item 601\n",
       "\\item 602\n",
       "\\end{enumerate*}\n"
      ],
      "text/markdown": [
       "1. 12\n",
       "2. 20\n",
       "3. 25\n",
       "4. 30\n",
       "5. 31\n",
       "6. 96\n",
       "7. 108\n",
       "8. 112\n",
       "9. 115\n",
       "10. 159\n",
       "11. 171\n",
       "12. 219\n",
       "13. 232\n",
       "14. 237\n",
       "15. 269\n",
       "16. 296\n",
       "17. 334\n",
       "18. 337\n",
       "19. 345\n",
       "20. 375\n",
       "21. 381\n",
       "22. 386\n",
       "23. 412\n",
       "24. 433\n",
       "25. 448\n",
       "26. 464\n",
       "27. 469\n",
       "28. 536\n",
       "29. 543\n",
       "30. 580\n",
       "31. 601\n",
       "32. 602\n",
       "\n",
       "\n"
      ],
      "text/plain": [
       " [1]  12  20  25  30  31  96 108 112 115 159 171 219 232 237 269 296 334 337 345\n",
       "[20] 375 381 386 412 433 448 464 469 536 543 580 601 602"
      ]
     },
     "metadata": {},
     "output_type": "display_data"
    },
    {
     "data": {
      "text/html": [
       "32"
      ],
      "text/latex": [
       "32"
      ],
      "text/markdown": [
       "32"
      ],
      "text/plain": [
       "[1] 32"
      ]
     },
     "metadata": {},
     "output_type": "display_data"
    },
    {
     "data": {
      "text/html": [],
      "text/latex": [],
      "text/markdown": [],
      "text/plain": [
       "integer(0)"
      ]
     },
     "metadata": {},
     "output_type": "display_data"
    },
    {
     "data": {
      "text/html": [
       "0"
      ],
      "text/latex": [
       "0"
      ],
      "text/markdown": [
       "0"
      ],
      "text/plain": [
       "[1] 0"
      ]
     },
     "metadata": {},
     "output_type": "display_data"
    },
    {
     "data": {
      "text/html": [],
      "text/latex": [],
      "text/markdown": [],
      "text/plain": [
       "integer(0)"
      ]
     },
     "metadata": {},
     "output_type": "display_data"
    },
    {
     "data": {
      "text/html": [
       "0"
      ],
      "text/latex": [
       "0"
      ],
      "text/markdown": [
       "0"
      ],
      "text/plain": [
       "[1] 0"
      ]
     },
     "metadata": {},
     "output_type": "display_data"
    },
    {
     "data": {
      "text/html": [
       "<ol class=list-inline>\n",
       "\t<li>1</li>\n",
       "\t<li>36</li>\n",
       "\t<li>64</li>\n",
       "\t<li>82</li>\n",
       "\t<li>96</li>\n",
       "\t<li>103</li>\n",
       "\t<li>104</li>\n",
       "\t<li>114</li>\n",
       "\t<li>128</li>\n",
       "\t<li>203</li>\n",
       "\t<li>285</li>\n",
       "\t<li>306</li>\n",
       "\t<li>323</li>\n",
       "\t<li>339</li>\n",
       "\t<li>388</li>\n",
       "\t<li>436</li>\n",
       "\t<li>438</li>\n",
       "\t<li>480</li>\n",
       "\t<li>525</li>\n",
       "\t<li>551</li>\n",
       "\t<li>552</li>\n",
       "\t<li>606</li>\n",
       "</ol>\n"
      ],
      "text/latex": [
       "\\begin{enumerate*}\n",
       "\\item 1\n",
       "\\item 36\n",
       "\\item 64\n",
       "\\item 82\n",
       "\\item 96\n",
       "\\item 103\n",
       "\\item 104\n",
       "\\item 114\n",
       "\\item 128\n",
       "\\item 203\n",
       "\\item 285\n",
       "\\item 306\n",
       "\\item 323\n",
       "\\item 339\n",
       "\\item 388\n",
       "\\item 436\n",
       "\\item 438\n",
       "\\item 480\n",
       "\\item 525\n",
       "\\item 551\n",
       "\\item 552\n",
       "\\item 606\n",
       "\\end{enumerate*}\n"
      ],
      "text/markdown": [
       "1. 1\n",
       "2. 36\n",
       "3. 64\n",
       "4. 82\n",
       "5. 96\n",
       "6. 103\n",
       "7. 104\n",
       "8. 114\n",
       "9. 128\n",
       "10. 203\n",
       "11. 285\n",
       "12. 306\n",
       "13. 323\n",
       "14. 339\n",
       "15. 388\n",
       "16. 436\n",
       "17. 438\n",
       "18. 480\n",
       "19. 525\n",
       "20. 551\n",
       "21. 552\n",
       "22. 606\n",
       "\n",
       "\n"
      ],
      "text/plain": [
       " [1]   1  36  64  82  96 103 104 114 128 203 285 306 323 339 388 436 438 480 525\n",
       "[20] 551 552 606"
      ]
     },
     "metadata": {},
     "output_type": "display_data"
    },
    {
     "data": {
      "text/html": [
       "22"
      ],
      "text/latex": [
       "22"
      ],
      "text/markdown": [
       "22"
      ],
      "text/plain": [
       "[1] 22"
      ]
     },
     "metadata": {},
     "output_type": "display_data"
    },
    {
     "data": {
      "text/html": [
       "<ol class=list-inline>\n",
       "\t<li>20</li>\n",
       "\t<li>37</li>\n",
       "\t<li>45</li>\n",
       "\t<li>46</li>\n",
       "\t<li>74</li>\n",
       "\t<li>113</li>\n",
       "\t<li>166</li>\n",
       "\t<li>198</li>\n",
       "\t<li>224</li>\n",
       "\t<li>233</li>\n",
       "\t<li>336</li>\n",
       "\t<li>368</li>\n",
       "\t<li>422</li>\n",
       "\t<li>424</li>\n",
       "</ol>\n"
      ],
      "text/latex": [
       "\\begin{enumerate*}\n",
       "\\item 20\n",
       "\\item 37\n",
       "\\item 45\n",
       "\\item 46\n",
       "\\item 74\n",
       "\\item 113\n",
       "\\item 166\n",
       "\\item 198\n",
       "\\item 224\n",
       "\\item 233\n",
       "\\item 336\n",
       "\\item 368\n",
       "\\item 422\n",
       "\\item 424\n",
       "\\end{enumerate*}\n"
      ],
      "text/markdown": [
       "1. 20\n",
       "2. 37\n",
       "3. 45\n",
       "4. 46\n",
       "5. 74\n",
       "6. 113\n",
       "7. 166\n",
       "8. 198\n",
       "9. 224\n",
       "10. 233\n",
       "11. 336\n",
       "12. 368\n",
       "13. 422\n",
       "14. 424\n",
       "\n",
       "\n"
      ],
      "text/plain": [
       " [1]  20  37  45  46  74 113 166 198 224 233 336 368 422 424"
      ]
     },
     "metadata": {},
     "output_type": "display_data"
    },
    {
     "data": {
      "text/html": [
       "14"
      ],
      "text/latex": [
       "14"
      ],
      "text/markdown": [
       "14"
      ],
      "text/plain": [
       "[1] 14"
      ]
     },
     "metadata": {},
     "output_type": "display_data"
    },
    {
     "data": {
      "text/html": [
       "<ol class=list-inline>\n",
       "\t<li>17</li>\n",
       "\t<li>25</li>\n",
       "\t<li>31</li>\n",
       "\t<li>43</li>\n",
       "\t<li>80</li>\n",
       "\t<li>84</li>\n",
       "\t<li>87</li>\n",
       "\t<li>96</li>\n",
       "\t<li>118</li>\n",
       "\t<li>126</li>\n",
       "\t<li>130</li>\n",
       "\t<li>131</li>\n",
       "\t<li>157</li>\n",
       "\t<li>182</li>\n",
       "\t<li>188</li>\n",
       "\t<li>199</li>\n",
       "\t<li>220</li>\n",
       "\t<li>237</li>\n",
       "\t<li>238</li>\n",
       "\t<li>260</li>\n",
       "\t<li>261</li>\n",
       "\t<li>280</li>\n",
       "\t<li>310</li>\n",
       "\t<li>314</li>\n",
       "\t<li>318</li>\n",
       "\t<li>319</li>\n",
       "\t<li>324</li>\n",
       "\t<li>349</li>\n",
       "\t<li>364</li>\n",
       "\t<li>378</li>\n",
       "\t<li>393</li>\n",
       "\t<li>396</li>\n",
       "\t<li>412</li>\n",
       "\t<li>445</li>\n",
       "\t<li>450</li>\n",
       "\t<li>452</li>\n",
       "\t<li>461</li>\n",
       "\t<li>474</li>\n",
       "\t<li>491</li>\n",
       "\t<li>492</li>\n",
       "\t<li>498</li>\n",
       "\t<li>504</li>\n",
       "\t<li>507</li>\n",
       "\t<li>531</li>\n",
       "\t<li>534</li>\n",
       "\t<li>545</li>\n",
       "\t<li>557</li>\n",
       "\t<li>566</li>\n",
       "\t<li>584</li>\n",
       "\t<li>601</li>\n",
       "</ol>\n"
      ],
      "text/latex": [
       "\\begin{enumerate*}\n",
       "\\item 17\n",
       "\\item 25\n",
       "\\item 31\n",
       "\\item 43\n",
       "\\item 80\n",
       "\\item 84\n",
       "\\item 87\n",
       "\\item 96\n",
       "\\item 118\n",
       "\\item 126\n",
       "\\item 130\n",
       "\\item 131\n",
       "\\item 157\n",
       "\\item 182\n",
       "\\item 188\n",
       "\\item 199\n",
       "\\item 220\n",
       "\\item 237\n",
       "\\item 238\n",
       "\\item 260\n",
       "\\item 261\n",
       "\\item 280\n",
       "\\item 310\n",
       "\\item 314\n",
       "\\item 318\n",
       "\\item 319\n",
       "\\item 324\n",
       "\\item 349\n",
       "\\item 364\n",
       "\\item 378\n",
       "\\item 393\n",
       "\\item 396\n",
       "\\item 412\n",
       "\\item 445\n",
       "\\item 450\n",
       "\\item 452\n",
       "\\item 461\n",
       "\\item 474\n",
       "\\item 491\n",
       "\\item 492\n",
       "\\item 498\n",
       "\\item 504\n",
       "\\item 507\n",
       "\\item 531\n",
       "\\item 534\n",
       "\\item 545\n",
       "\\item 557\n",
       "\\item 566\n",
       "\\item 584\n",
       "\\item 601\n",
       "\\end{enumerate*}\n"
      ],
      "text/markdown": [
       "1. 17\n",
       "2. 25\n",
       "3. 31\n",
       "4. 43\n",
       "5. 80\n",
       "6. 84\n",
       "7. 87\n",
       "8. 96\n",
       "9. 118\n",
       "10. 126\n",
       "11. 130\n",
       "12. 131\n",
       "13. 157\n",
       "14. 182\n",
       "15. 188\n",
       "16. 199\n",
       "17. 220\n",
       "18. 237\n",
       "19. 238\n",
       "20. 260\n",
       "21. 261\n",
       "22. 280\n",
       "23. 310\n",
       "24. 314\n",
       "25. 318\n",
       "26. 319\n",
       "27. 324\n",
       "28. 349\n",
       "29. 364\n",
       "30. 378\n",
       "31. 393\n",
       "32. 396\n",
       "33. 412\n",
       "34. 445\n",
       "35. 450\n",
       "36. 452\n",
       "37. 461\n",
       "38. 474\n",
       "39. 491\n",
       "40. 492\n",
       "41. 498\n",
       "42. 504\n",
       "43. 507\n",
       "44. 531\n",
       "45. 534\n",
       "46. 545\n",
       "47. 557\n",
       "48. 566\n",
       "49. 584\n",
       "50. 601\n",
       "\n",
       "\n"
      ],
      "text/plain": [
       " [1]  17  25  31  43  80  84  87  96 118 126 130 131 157 182 188 199 220 237 238\n",
       "[20] 260 261 280 310 314 318 319 324 349 364 378 393 396 412 445 450 452 461 474\n",
       "[39] 491 492 498 504 507 531 534 545 557 566 584 601"
      ]
     },
     "metadata": {},
     "output_type": "display_data"
    },
    {
     "data": {
      "text/html": [
       "50"
      ],
      "text/latex": [
       "50"
      ],
      "text/markdown": [
       "50"
      ],
      "text/plain": [
       "[1] 50"
      ]
     },
     "metadata": {},
     "output_type": "display_data"
    },
    {
     "data": {
      "text/html": [],
      "text/latex": [],
      "text/markdown": [],
      "text/plain": [
       "integer(0)"
      ]
     },
     "metadata": {},
     "output_type": "display_data"
    },
    {
     "data": {
      "text/html": [
       "0"
      ],
      "text/latex": [
       "0"
      ],
      "text/markdown": [
       "0"
      ],
      "text/plain": [
       "[1] 0"
      ]
     },
     "metadata": {},
     "output_type": "display_data"
    },
    {
     "data": {
      "text/html": [],
      "text/latex": [],
      "text/markdown": [],
      "text/plain": [
       "integer(0)"
      ]
     },
     "metadata": {},
     "output_type": "display_data"
    },
    {
     "data": {
      "text/html": [
       "0"
      ],
      "text/latex": [
       "0"
      ],
      "text/markdown": [
       "0"
      ],
      "text/plain": [
       "[1] 0"
      ]
     },
     "metadata": {},
     "output_type": "display_data"
    },
    {
     "data": {
      "text/html": [
       "480"
      ],
      "text/latex": [
       "480"
      ],
      "text/markdown": [
       "480"
      ],
      "text/plain": [
       "[1] 480"
      ]
     },
     "metadata": {},
     "output_type": "display_data"
    },
    {
     "data": {
      "text/html": [
       "13"
      ],
      "text/latex": [
       "13"
      ],
      "text/markdown": [
       "13"
      ],
      "text/plain": [
       "[1] 13"
      ]
     },
     "metadata": {},
     "output_type": "display_data"
    }
   ],
   "source": [
    "# 1-a If any, print the total number of null values for each column in the dataset. Explain how you handle the null values (Hint: Null values must be filled or dropped from the dataset accordingly. How you handle the null values is upto you)\n",
    "\n",
    "nrow(df)\n",
    "ncol(df)\n",
    "\n",
    "df_duplicate <- df\n",
    "df_duplicate[df_duplicate == \"\"] <- NA\n",
    "\n",
    "which(is.na(df_duplicate$Loan_ID))\n",
    "sum(is.na(df_duplicate$Loan_ID))\n",
    "which(is.na(df_duplicate$Gender))\n",
    "sum(is.na(df_duplicate$Gender))\n",
    "which(is.na(df_duplicate$Married))\n",
    "sum(is.na(df_duplicate$Married))\n",
    "which(is.na(df_duplicate$Dependents))\n",
    "sum(is.na(df_duplicate$Dependents))\n",
    "which(is.na(df_duplicate$Education))\n",
    "sum(is.na(df_duplicate$Education))\n",
    "which(is.na(df_duplicate$Self_Employed))\n",
    "sum(is.na(df_duplicate$Self_Employed))\n",
    "which(is.na(df_duplicate$ApplicantIncome))\n",
    "sum(is.na(df_duplicate$ApplicantIncome))\n",
    "which(is.na(df_duplicate$CoapplicantIncome))\n",
    "sum(is.na(df_duplicate$CoapplicantIncome))\n",
    "which(is.na(df_duplicate$LoanAmount))\n",
    "sum(is.na(df_duplicate$LoanAmount))\n",
    "which(is.na(df_duplicate$Loan_Amount_Term))\n",
    "sum(is.na(df_duplicate$Loan_Amount_Term))\n",
    "which(is.na(df_duplicate$Credit_History))\n",
    "sum(is.na(df_duplicate$Credit_History))\n",
    "which(is.na(df_duplicate$Property_Area))\n",
    "sum(is.na(df_duplicate$Property_Area))\n",
    "which(is.na(df_duplicate$Loan_Status))\n",
    "sum(is.na(df_duplicate$Loan_Status))\n",
    "\n",
    "\n",
    "df_nonull <- na.omit(df_duplicate)\n",
    "\n",
    "nrow(df_nonull)\n",
    "ncol(df_nonull)"
   ]
  },
  {
   "cell_type": "code",
   "execution_count": 8,
   "id": "78ab546f",
   "metadata": {},
   "outputs": [
    {
     "data": {
      "text/plain": [
       "     Loan_ID       Gender    Married   Dependents        Education  \n",
       " LP001003:  1         :  0      :  0     :  0     Graduate    :383  \n",
       " LP001005:  1   Female: 86   No :169   0 :274     Not Graduate: 97  \n",
       " LP001006:  1   Male  :394   Yes:311   1 : 80                       \n",
       " LP001008:  1                          2 : 85                       \n",
       " LP001011:  1                          3+: 41                       \n",
       " LP001013:  1                                                       \n",
       " (Other) :474                                                       \n",
       " Self_Employed ApplicantIncome CoapplicantIncome   LoanAmount   \n",
       "    :  0       Min.   :  150   Min.   :    0     Min.   :  9.0  \n",
       " No :414       1st Qu.: 2899   1st Qu.:    0     1st Qu.:100.0  \n",
       " Yes: 66       Median : 3859   Median : 1084     Median :128.0  \n",
       "               Mean   : 5364   Mean   : 1581     Mean   :144.7  \n",
       "               3rd Qu.: 5852   3rd Qu.: 2253     3rd Qu.:170.0  \n",
       "               Max.   :81000   Max.   :33837     Max.   :600.0  \n",
       "                                                                \n",
       " Loan_Amount_Term Credit_History     Property_Area Loan_Status\n",
       " Min.   : 36.0    Min.   :0.0000   Rural    :139   N:148      \n",
       " 1st Qu.:360.0    1st Qu.:1.0000   Semiurban:191   Y:332      \n",
       " Median :360.0    Median :1.0000   Urban    :150              \n",
       " Mean   :342.1    Mean   :0.8542                              \n",
       " 3rd Qu.:360.0    3rd Qu.:1.0000                              \n",
       " Max.   :480.0    Max.   :1.0000                              \n",
       "                                                              "
      ]
     },
     "metadata": {},
     "output_type": "display_data"
    }
   ],
   "source": [
    "# 1-b Print the details of dataframe\n",
    "\n",
    "summary(df_nonull)"
   ]
  },
  {
   "cell_type": "code",
   "execution_count": 9,
   "id": "cea2969f",
   "metadata": {},
   "outputs": [
    {
     "data": {
      "text/html": [
       "13"
      ],
      "text/latex": [
       "13"
      ],
      "text/markdown": [
       "13"
      ],
      "text/plain": [
       "[1] 13"
      ]
     },
     "metadata": {},
     "output_type": "display_data"
    },
    {
     "data": {
      "text/html": [
       "480"
      ],
      "text/latex": [
       "480"
      ],
      "text/markdown": [
       "480"
      ],
      "text/plain": [
       "[1] 480"
      ]
     },
     "metadata": {},
     "output_type": "display_data"
    }
   ],
   "source": [
    "# 1-c Find the number of rows and columns in dataset\n",
    "\n",
    "ncol(df_nonull)\n",
    "nrow(df_nonull)\n"
   ]
  },
  {
   "cell_type": "code",
   "execution_count": 10,
   "id": "f95aa4d9",
   "metadata": {
    "scrolled": false
   },
   "outputs": [
    {
     "data": {
      "text/html": [
       "<table>\n",
       "<thead><tr><th></th><th scope=col>x</th></tr></thead>\n",
       "<tbody>\n",
       "\t<tr><th scope=row>nbr.val</th><td>NA</td></tr>\n",
       "\t<tr><th scope=row>nbr.null</th><td>NA</td></tr>\n",
       "\t<tr><th scope=row>nbr.na</th><td>NA</td></tr>\n",
       "\t<tr><th scope=row>min</th><td>NA</td></tr>\n",
       "\t<tr><th scope=row>max</th><td>NA</td></tr>\n",
       "\t<tr><th scope=row>range</th><td>NA</td></tr>\n",
       "\t<tr><th scope=row>sum</th><td>NA</td></tr>\n",
       "\t<tr><th scope=row>median</th><td>NA</td></tr>\n",
       "\t<tr><th scope=row>mean</th><td>NA</td></tr>\n",
       "\t<tr><th scope=row>SE.mean</th><td>NA</td></tr>\n",
       "\t<tr><th scope=row>CI.mean</th><td>NA</td></tr>\n",
       "\t<tr><th scope=row>var</th><td>NA</td></tr>\n",
       "\t<tr><th scope=row>std.dev</th><td>NA</td></tr>\n",
       "\t<tr><th scope=row>coef.var</th><td>NA</td></tr>\n",
       "</tbody>\n",
       "</table>\n"
      ],
      "text/latex": [
       "\\begin{tabular}{r|l}\n",
       "  & x\\\\\n",
       "\\hline\n",
       "\tnbr.val & NA\\\\\n",
       "\tnbr.null & NA\\\\\n",
       "\tnbr.na & NA\\\\\n",
       "\tmin & NA\\\\\n",
       "\tmax & NA\\\\\n",
       "\trange & NA\\\\\n",
       "\tsum & NA\\\\\n",
       "\tmedian & NA\\\\\n",
       "\tmean & NA\\\\\n",
       "\tSE.mean & NA\\\\\n",
       "\tCI.mean & NA\\\\\n",
       "\tvar & NA\\\\\n",
       "\tstd.dev & NA\\\\\n",
       "\tcoef.var & NA\\\\\n",
       "\\end{tabular}\n"
      ],
      "text/markdown": [
       "\n",
       "| <!--/--> | x |\n",
       "|---|---|\n",
       "| nbr.val | NA |\n",
       "| nbr.null | NA |\n",
       "| nbr.na | NA |\n",
       "| min | NA |\n",
       "| max | NA |\n",
       "| range | NA |\n",
       "| sum | NA |\n",
       "| median | NA |\n",
       "| mean | NA |\n",
       "| SE.mean | NA |\n",
       "| CI.mean | NA |\n",
       "| var | NA |\n",
       "| std.dev | NA |\n",
       "| coef.var | NA |\n",
       "\n"
      ],
      "text/plain": [
       "         x \n",
       "nbr.val  NA\n",
       "nbr.null NA\n",
       "nbr.na   NA\n",
       "min      NA\n",
       "max      NA\n",
       "range    NA\n",
       "sum      NA\n",
       "median   NA\n",
       "mean     NA\n",
       "SE.mean  NA\n",
       "CI.mean  NA\n",
       "var      NA\n",
       "std.dev  NA\n",
       "coef.var NA"
      ]
     },
     "metadata": {},
     "output_type": "display_data"
    },
    {
     "data": {
      "text/html": [
       "<table>\n",
       "<thead><tr><th></th><th scope=col>x</th></tr></thead>\n",
       "<tbody>\n",
       "\t<tr><th scope=row>nbr.val</th><td>NA</td></tr>\n",
       "\t<tr><th scope=row>nbr.null</th><td>NA</td></tr>\n",
       "\t<tr><th scope=row>nbr.na</th><td>NA</td></tr>\n",
       "\t<tr><th scope=row>min</th><td>NA</td></tr>\n",
       "\t<tr><th scope=row>max</th><td>NA</td></tr>\n",
       "\t<tr><th scope=row>range</th><td>NA</td></tr>\n",
       "\t<tr><th scope=row>sum</th><td>NA</td></tr>\n",
       "\t<tr><th scope=row>median</th><td>NA</td></tr>\n",
       "\t<tr><th scope=row>mean</th><td>NA</td></tr>\n",
       "\t<tr><th scope=row>SE.mean</th><td>NA</td></tr>\n",
       "\t<tr><th scope=row>CI.mean</th><td>NA</td></tr>\n",
       "\t<tr><th scope=row>var</th><td>NA</td></tr>\n",
       "\t<tr><th scope=row>std.dev</th><td>NA</td></tr>\n",
       "\t<tr><th scope=row>coef.var</th><td>NA</td></tr>\n",
       "</tbody>\n",
       "</table>\n"
      ],
      "text/latex": [
       "\\begin{tabular}{r|l}\n",
       "  & x\\\\\n",
       "\\hline\n",
       "\tnbr.val & NA\\\\\n",
       "\tnbr.null & NA\\\\\n",
       "\tnbr.na & NA\\\\\n",
       "\tmin & NA\\\\\n",
       "\tmax & NA\\\\\n",
       "\trange & NA\\\\\n",
       "\tsum & NA\\\\\n",
       "\tmedian & NA\\\\\n",
       "\tmean & NA\\\\\n",
       "\tSE.mean & NA\\\\\n",
       "\tCI.mean & NA\\\\\n",
       "\tvar & NA\\\\\n",
       "\tstd.dev & NA\\\\\n",
       "\tcoef.var & NA\\\\\n",
       "\\end{tabular}\n"
      ],
      "text/markdown": [
       "\n",
       "| <!--/--> | x |\n",
       "|---|---|\n",
       "| nbr.val | NA |\n",
       "| nbr.null | NA |\n",
       "| nbr.na | NA |\n",
       "| min | NA |\n",
       "| max | NA |\n",
       "| range | NA |\n",
       "| sum | NA |\n",
       "| median | NA |\n",
       "| mean | NA |\n",
       "| SE.mean | NA |\n",
       "| CI.mean | NA |\n",
       "| var | NA |\n",
       "| std.dev | NA |\n",
       "| coef.var | NA |\n",
       "\n"
      ],
      "text/plain": [
       "         x \n",
       "nbr.val  NA\n",
       "nbr.null NA\n",
       "nbr.na   NA\n",
       "min      NA\n",
       "max      NA\n",
       "range    NA\n",
       "sum      NA\n",
       "median   NA\n",
       "mean     NA\n",
       "SE.mean  NA\n",
       "CI.mean  NA\n",
       "var      NA\n",
       "std.dev  NA\n",
       "coef.var NA"
      ]
     },
     "metadata": {},
     "output_type": "display_data"
    },
    {
     "data": {
      "text/html": [
       "<table>\n",
       "<thead><tr><th></th><th scope=col>x</th></tr></thead>\n",
       "<tbody>\n",
       "\t<tr><th scope=row>nbr.val</th><td>NA</td></tr>\n",
       "\t<tr><th scope=row>nbr.null</th><td>NA</td></tr>\n",
       "\t<tr><th scope=row>nbr.na</th><td>NA</td></tr>\n",
       "\t<tr><th scope=row>min</th><td>NA</td></tr>\n",
       "\t<tr><th scope=row>max</th><td>NA</td></tr>\n",
       "\t<tr><th scope=row>range</th><td>NA</td></tr>\n",
       "\t<tr><th scope=row>sum</th><td>NA</td></tr>\n",
       "\t<tr><th scope=row>median</th><td>NA</td></tr>\n",
       "\t<tr><th scope=row>mean</th><td>NA</td></tr>\n",
       "\t<tr><th scope=row>SE.mean</th><td>NA</td></tr>\n",
       "\t<tr><th scope=row>CI.mean</th><td>NA</td></tr>\n",
       "\t<tr><th scope=row>var</th><td>NA</td></tr>\n",
       "\t<tr><th scope=row>std.dev</th><td>NA</td></tr>\n",
       "\t<tr><th scope=row>coef.var</th><td>NA</td></tr>\n",
       "</tbody>\n",
       "</table>\n"
      ],
      "text/latex": [
       "\\begin{tabular}{r|l}\n",
       "  & x\\\\\n",
       "\\hline\n",
       "\tnbr.val & NA\\\\\n",
       "\tnbr.null & NA\\\\\n",
       "\tnbr.na & NA\\\\\n",
       "\tmin & NA\\\\\n",
       "\tmax & NA\\\\\n",
       "\trange & NA\\\\\n",
       "\tsum & NA\\\\\n",
       "\tmedian & NA\\\\\n",
       "\tmean & NA\\\\\n",
       "\tSE.mean & NA\\\\\n",
       "\tCI.mean & NA\\\\\n",
       "\tvar & NA\\\\\n",
       "\tstd.dev & NA\\\\\n",
       "\tcoef.var & NA\\\\\n",
       "\\end{tabular}\n"
      ],
      "text/markdown": [
       "\n",
       "| <!--/--> | x |\n",
       "|---|---|\n",
       "| nbr.val | NA |\n",
       "| nbr.null | NA |\n",
       "| nbr.na | NA |\n",
       "| min | NA |\n",
       "| max | NA |\n",
       "| range | NA |\n",
       "| sum | NA |\n",
       "| median | NA |\n",
       "| mean | NA |\n",
       "| SE.mean | NA |\n",
       "| CI.mean | NA |\n",
       "| var | NA |\n",
       "| std.dev | NA |\n",
       "| coef.var | NA |\n",
       "\n"
      ],
      "text/plain": [
       "         x \n",
       "nbr.val  NA\n",
       "nbr.null NA\n",
       "nbr.na   NA\n",
       "min      NA\n",
       "max      NA\n",
       "range    NA\n",
       "sum      NA\n",
       "median   NA\n",
       "mean     NA\n",
       "SE.mean  NA\n",
       "CI.mean  NA\n",
       "var      NA\n",
       "std.dev  NA\n",
       "coef.var NA"
      ]
     },
     "metadata": {},
     "output_type": "display_data"
    },
    {
     "data": {
      "text/html": [
       "<table>\n",
       "<thead><tr><th></th><th scope=col>x</th></tr></thead>\n",
       "<tbody>\n",
       "\t<tr><th scope=row>nbr.val</th><td>NA</td></tr>\n",
       "\t<tr><th scope=row>nbr.null</th><td>NA</td></tr>\n",
       "\t<tr><th scope=row>nbr.na</th><td>NA</td></tr>\n",
       "\t<tr><th scope=row>min</th><td>NA</td></tr>\n",
       "\t<tr><th scope=row>max</th><td>NA</td></tr>\n",
       "\t<tr><th scope=row>range</th><td>NA</td></tr>\n",
       "\t<tr><th scope=row>sum</th><td>NA</td></tr>\n",
       "\t<tr><th scope=row>median</th><td>NA</td></tr>\n",
       "\t<tr><th scope=row>mean</th><td>NA</td></tr>\n",
       "\t<tr><th scope=row>SE.mean</th><td>NA</td></tr>\n",
       "\t<tr><th scope=row>CI.mean</th><td>NA</td></tr>\n",
       "\t<tr><th scope=row>var</th><td>NA</td></tr>\n",
       "\t<tr><th scope=row>std.dev</th><td>NA</td></tr>\n",
       "\t<tr><th scope=row>coef.var</th><td>NA</td></tr>\n",
       "</tbody>\n",
       "</table>\n"
      ],
      "text/latex": [
       "\\begin{tabular}{r|l}\n",
       "  & x\\\\\n",
       "\\hline\n",
       "\tnbr.val & NA\\\\\n",
       "\tnbr.null & NA\\\\\n",
       "\tnbr.na & NA\\\\\n",
       "\tmin & NA\\\\\n",
       "\tmax & NA\\\\\n",
       "\trange & NA\\\\\n",
       "\tsum & NA\\\\\n",
       "\tmedian & NA\\\\\n",
       "\tmean & NA\\\\\n",
       "\tSE.mean & NA\\\\\n",
       "\tCI.mean & NA\\\\\n",
       "\tvar & NA\\\\\n",
       "\tstd.dev & NA\\\\\n",
       "\tcoef.var & NA\\\\\n",
       "\\end{tabular}\n"
      ],
      "text/markdown": [
       "\n",
       "| <!--/--> | x |\n",
       "|---|---|\n",
       "| nbr.val | NA |\n",
       "| nbr.null | NA |\n",
       "| nbr.na | NA |\n",
       "| min | NA |\n",
       "| max | NA |\n",
       "| range | NA |\n",
       "| sum | NA |\n",
       "| median | NA |\n",
       "| mean | NA |\n",
       "| SE.mean | NA |\n",
       "| CI.mean | NA |\n",
       "| var | NA |\n",
       "| std.dev | NA |\n",
       "| coef.var | NA |\n",
       "\n"
      ],
      "text/plain": [
       "         x \n",
       "nbr.val  NA\n",
       "nbr.null NA\n",
       "nbr.na   NA\n",
       "min      NA\n",
       "max      NA\n",
       "range    NA\n",
       "sum      NA\n",
       "median   NA\n",
       "mean     NA\n",
       "SE.mean  NA\n",
       "CI.mean  NA\n",
       "var      NA\n",
       "std.dev  NA\n",
       "coef.var NA"
      ]
     },
     "metadata": {},
     "output_type": "display_data"
    },
    {
     "data": {
      "text/html": [
       "<table>\n",
       "<thead><tr><th></th><th scope=col>x</th></tr></thead>\n",
       "<tbody>\n",
       "\t<tr><th scope=row>nbr.val</th><td>NA</td></tr>\n",
       "\t<tr><th scope=row>nbr.null</th><td>NA</td></tr>\n",
       "\t<tr><th scope=row>nbr.na</th><td>NA</td></tr>\n",
       "\t<tr><th scope=row>min</th><td>NA</td></tr>\n",
       "\t<tr><th scope=row>max</th><td>NA</td></tr>\n",
       "\t<tr><th scope=row>range</th><td>NA</td></tr>\n",
       "\t<tr><th scope=row>sum</th><td>NA</td></tr>\n",
       "\t<tr><th scope=row>median</th><td>NA</td></tr>\n",
       "\t<tr><th scope=row>mean</th><td>NA</td></tr>\n",
       "\t<tr><th scope=row>SE.mean</th><td>NA</td></tr>\n",
       "\t<tr><th scope=row>CI.mean</th><td>NA</td></tr>\n",
       "\t<tr><th scope=row>var</th><td>NA</td></tr>\n",
       "\t<tr><th scope=row>std.dev</th><td>NA</td></tr>\n",
       "\t<tr><th scope=row>coef.var</th><td>NA</td></tr>\n",
       "</tbody>\n",
       "</table>\n"
      ],
      "text/latex": [
       "\\begin{tabular}{r|l}\n",
       "  & x\\\\\n",
       "\\hline\n",
       "\tnbr.val & NA\\\\\n",
       "\tnbr.null & NA\\\\\n",
       "\tnbr.na & NA\\\\\n",
       "\tmin & NA\\\\\n",
       "\tmax & NA\\\\\n",
       "\trange & NA\\\\\n",
       "\tsum & NA\\\\\n",
       "\tmedian & NA\\\\\n",
       "\tmean & NA\\\\\n",
       "\tSE.mean & NA\\\\\n",
       "\tCI.mean & NA\\\\\n",
       "\tvar & NA\\\\\n",
       "\tstd.dev & NA\\\\\n",
       "\tcoef.var & NA\\\\\n",
       "\\end{tabular}\n"
      ],
      "text/markdown": [
       "\n",
       "| <!--/--> | x |\n",
       "|---|---|\n",
       "| nbr.val | NA |\n",
       "| nbr.null | NA |\n",
       "| nbr.na | NA |\n",
       "| min | NA |\n",
       "| max | NA |\n",
       "| range | NA |\n",
       "| sum | NA |\n",
       "| median | NA |\n",
       "| mean | NA |\n",
       "| SE.mean | NA |\n",
       "| CI.mean | NA |\n",
       "| var | NA |\n",
       "| std.dev | NA |\n",
       "| coef.var | NA |\n",
       "\n"
      ],
      "text/plain": [
       "         x \n",
       "nbr.val  NA\n",
       "nbr.null NA\n",
       "nbr.na   NA\n",
       "min      NA\n",
       "max      NA\n",
       "range    NA\n",
       "sum      NA\n",
       "median   NA\n",
       "mean     NA\n",
       "SE.mean  NA\n",
       "CI.mean  NA\n",
       "var      NA\n",
       "std.dev  NA\n",
       "coef.var NA"
      ]
     },
     "metadata": {},
     "output_type": "display_data"
    },
    {
     "data": {
      "text/html": [
       "<table>\n",
       "<thead><tr><th></th><th scope=col>x</th></tr></thead>\n",
       "<tbody>\n",
       "\t<tr><th scope=row>nbr.val</th><td>NA</td></tr>\n",
       "\t<tr><th scope=row>nbr.null</th><td>NA</td></tr>\n",
       "\t<tr><th scope=row>nbr.na</th><td>NA</td></tr>\n",
       "\t<tr><th scope=row>min</th><td>NA</td></tr>\n",
       "\t<tr><th scope=row>max</th><td>NA</td></tr>\n",
       "\t<tr><th scope=row>range</th><td>NA</td></tr>\n",
       "\t<tr><th scope=row>sum</th><td>NA</td></tr>\n",
       "\t<tr><th scope=row>median</th><td>NA</td></tr>\n",
       "\t<tr><th scope=row>mean</th><td>NA</td></tr>\n",
       "\t<tr><th scope=row>SE.mean</th><td>NA</td></tr>\n",
       "\t<tr><th scope=row>CI.mean</th><td>NA</td></tr>\n",
       "\t<tr><th scope=row>var</th><td>NA</td></tr>\n",
       "\t<tr><th scope=row>std.dev</th><td>NA</td></tr>\n",
       "\t<tr><th scope=row>coef.var</th><td>NA</td></tr>\n",
       "</tbody>\n",
       "</table>\n"
      ],
      "text/latex": [
       "\\begin{tabular}{r|l}\n",
       "  & x\\\\\n",
       "\\hline\n",
       "\tnbr.val & NA\\\\\n",
       "\tnbr.null & NA\\\\\n",
       "\tnbr.na & NA\\\\\n",
       "\tmin & NA\\\\\n",
       "\tmax & NA\\\\\n",
       "\trange & NA\\\\\n",
       "\tsum & NA\\\\\n",
       "\tmedian & NA\\\\\n",
       "\tmean & NA\\\\\n",
       "\tSE.mean & NA\\\\\n",
       "\tCI.mean & NA\\\\\n",
       "\tvar & NA\\\\\n",
       "\tstd.dev & NA\\\\\n",
       "\tcoef.var & NA\\\\\n",
       "\\end{tabular}\n"
      ],
      "text/markdown": [
       "\n",
       "| <!--/--> | x |\n",
       "|---|---|\n",
       "| nbr.val | NA |\n",
       "| nbr.null | NA |\n",
       "| nbr.na | NA |\n",
       "| min | NA |\n",
       "| max | NA |\n",
       "| range | NA |\n",
       "| sum | NA |\n",
       "| median | NA |\n",
       "| mean | NA |\n",
       "| SE.mean | NA |\n",
       "| CI.mean | NA |\n",
       "| var | NA |\n",
       "| std.dev | NA |\n",
       "| coef.var | NA |\n",
       "\n"
      ],
      "text/plain": [
       "         x \n",
       "nbr.val  NA\n",
       "nbr.null NA\n",
       "nbr.na   NA\n",
       "min      NA\n",
       "max      NA\n",
       "range    NA\n",
       "sum      NA\n",
       "median   NA\n",
       "mean     NA\n",
       "SE.mean  NA\n",
       "CI.mean  NA\n",
       "var      NA\n",
       "std.dev  NA\n",
       "coef.var NA"
      ]
     },
     "metadata": {},
     "output_type": "display_data"
    },
    {
     "data": {
      "text/html": [
       "<dl class=dl-horizontal>\n",
       "\t<dt>nbr.val</dt>\n",
       "\t\t<dd>480</dd>\n",
       "\t<dt>nbr.null</dt>\n",
       "\t\t<dd>0</dd>\n",
       "\t<dt>nbr.na</dt>\n",
       "\t\t<dd>0</dd>\n",
       "\t<dt>min</dt>\n",
       "\t\t<dd>150</dd>\n",
       "\t<dt>max</dt>\n",
       "\t\t<dd>81000</dd>\n",
       "\t<dt>range</dt>\n",
       "\t\t<dd>80850</dd>\n",
       "\t<dt>sum</dt>\n",
       "\t\t<dd>2574831</dd>\n",
       "\t<dt>median</dt>\n",
       "\t\t<dd>3859</dd>\n",
       "\t<dt>mean</dt>\n",
       "\t\t<dd>5364.23125</dd>\n",
       "\t<dt>SE.mean</dt>\n",
       "\t\t<dd>258.719089300116</dd>\n",
       "\t<dt>CI.mean.0.95</dt>\n",
       "\t\t<dd>508.36460493966</dd>\n",
       "\t<dt>var</dt>\n",
       "\t\t<dd>32129072.2407751</dd>\n",
       "\t<dt>std.dev</dt>\n",
       "\t\t<dd>5668.25125067468</dd>\n",
       "\t<dt>coef.var</dt>\n",
       "\t\t<dd>1.05667540911378</dd>\n",
       "</dl>\n"
      ],
      "text/latex": [
       "\\begin{description*}\n",
       "\\item[nbr.val] 480\n",
       "\\item[nbr.null] 0\n",
       "\\item[nbr.na] 0\n",
       "\\item[min] 150\n",
       "\\item[max] 81000\n",
       "\\item[range] 80850\n",
       "\\item[sum] 2574831\n",
       "\\item[median] 3859\n",
       "\\item[mean] 5364.23125\n",
       "\\item[SE.mean] 258.719089300116\n",
       "\\item[CI.mean.0.95] 508.36460493966\n",
       "\\item[var] 32129072.2407751\n",
       "\\item[std.dev] 5668.25125067468\n",
       "\\item[coef.var] 1.05667540911378\n",
       "\\end{description*}\n"
      ],
      "text/markdown": [
       "nbr.val\n",
       ":   480nbr.null\n",
       ":   0nbr.na\n",
       ":   0min\n",
       ":   150max\n",
       ":   81000range\n",
       ":   80850sum\n",
       ":   2574831median\n",
       ":   3859mean\n",
       ":   5364.23125SE.mean\n",
       ":   258.719089300116CI.mean.0.95\n",
       ":   508.36460493966var\n",
       ":   32129072.2407751std.dev\n",
       ":   5668.25125067468coef.var\n",
       ":   1.05667540911378\n",
       "\n"
      ],
      "text/plain": [
       "     nbr.val     nbr.null       nbr.na          min          max        range \n",
       "4.800000e+02 0.000000e+00 0.000000e+00 1.500000e+02 8.100000e+04 8.085000e+04 \n",
       "         sum       median         mean      SE.mean CI.mean.0.95          var \n",
       "2.574831e+06 3.859000e+03 5.364231e+03 2.587191e+02 5.083646e+02 3.212907e+07 \n",
       "     std.dev     coef.var \n",
       "5.668251e+03 1.056675e+00 "
      ]
     },
     "metadata": {},
     "output_type": "display_data"
    },
    {
     "data": {
      "text/html": [
       "<dl class=dl-horizontal>\n",
       "\t<dt>nbr.val</dt>\n",
       "\t\t<dd>480</dd>\n",
       "\t<dt>nbr.null</dt>\n",
       "\t\t<dd>216</dd>\n",
       "\t<dt>nbr.na</dt>\n",
       "\t\t<dd>0</dd>\n",
       "\t<dt>min</dt>\n",
       "\t\t<dd>0</dd>\n",
       "\t<dt>max</dt>\n",
       "\t\t<dd>33837</dd>\n",
       "\t<dt>range</dt>\n",
       "\t\t<dd>33837</dd>\n",
       "\t<dt>sum</dt>\n",
       "\t\t<dd>758924.91998864</dd>\n",
       "\t<dt>median</dt>\n",
       "\t\t<dd>1084.5</dd>\n",
       "\t<dt>mean</dt>\n",
       "\t\t<dd>1581.09358330967</dd>\n",
       "\t<dt>SE.mean</dt>\n",
       "\t\t<dd>119.480758600024</dd>\n",
       "\t<dt>CI.mean.0.95</dt>\n",
       "\t\t<dd>234.771190668245</dd>\n",
       "\t<dt>var</dt>\n",
       "\t\t<dd>6852312.80430591</dd>\n",
       "\t<dt>std.dev</dt>\n",
       "\t\t<dd>2617.69226692251</dd>\n",
       "\t<dt>coef.var</dt>\n",
       "\t\t<dd>1.65562133358543</dd>\n",
       "</dl>\n"
      ],
      "text/latex": [
       "\\begin{description*}\n",
       "\\item[nbr.val] 480\n",
       "\\item[nbr.null] 216\n",
       "\\item[nbr.na] 0\n",
       "\\item[min] 0\n",
       "\\item[max] 33837\n",
       "\\item[range] 33837\n",
       "\\item[sum] 758924.91998864\n",
       "\\item[median] 1084.5\n",
       "\\item[mean] 1581.09358330967\n",
       "\\item[SE.mean] 119.480758600024\n",
       "\\item[CI.mean.0.95] 234.771190668245\n",
       "\\item[var] 6852312.80430591\n",
       "\\item[std.dev] 2617.69226692251\n",
       "\\item[coef.var] 1.65562133358543\n",
       "\\end{description*}\n"
      ],
      "text/markdown": [
       "nbr.val\n",
       ":   480nbr.null\n",
       ":   216nbr.na\n",
       ":   0min\n",
       ":   0max\n",
       ":   33837range\n",
       ":   33837sum\n",
       ":   758924.91998864median\n",
       ":   1084.5mean\n",
       ":   1581.09358330967SE.mean\n",
       ":   119.480758600024CI.mean.0.95\n",
       ":   234.771190668245var\n",
       ":   6852312.80430591std.dev\n",
       ":   2617.69226692251coef.var\n",
       ":   1.65562133358543\n",
       "\n"
      ],
      "text/plain": [
       "     nbr.val     nbr.null       nbr.na          min          max        range \n",
       "4.800000e+02 2.160000e+02 0.000000e+00 0.000000e+00 3.383700e+04 3.383700e+04 \n",
       "         sum       median         mean      SE.mean CI.mean.0.95          var \n",
       "7.589249e+05 1.084500e+03 1.581094e+03 1.194808e+02 2.347712e+02 6.852313e+06 \n",
       "     std.dev     coef.var \n",
       "2.617692e+03 1.655621e+00 "
      ]
     },
     "metadata": {},
     "output_type": "display_data"
    },
    {
     "data": {
      "text/html": [
       "<dl class=dl-horizontal>\n",
       "\t<dt>nbr.val</dt>\n",
       "\t\t<dd>480</dd>\n",
       "\t<dt>nbr.null</dt>\n",
       "\t\t<dd>0</dd>\n",
       "\t<dt>nbr.na</dt>\n",
       "\t\t<dd>0</dd>\n",
       "\t<dt>min</dt>\n",
       "\t\t<dd>9</dd>\n",
       "\t<dt>max</dt>\n",
       "\t\t<dd>600</dd>\n",
       "\t<dt>range</dt>\n",
       "\t\t<dd>591</dd>\n",
       "\t<dt>sum</dt>\n",
       "\t\t<dd>69473</dd>\n",
       "\t<dt>median</dt>\n",
       "\t\t<dd>128</dd>\n",
       "\t<dt>mean</dt>\n",
       "\t\t<dd>144.735416666667</dd>\n",
       "\t<dt>SE.mean</dt>\n",
       "\t\t<dd>3.67467813359359</dd>\n",
       "\t<dt>CI.mean.0.95</dt>\n",
       "\t\t<dd>7.22048111222953</dd>\n",
       "\t<dt>var</dt>\n",
       "\t\t<dd>6481.56450504523</dd>\n",
       "\t<dt>std.dev</dt>\n",
       "\t\t<dd>80.5081642136078</dd>\n",
       "\t<dt>coef.var</dt>\n",
       "\t\t<dd>0.556243703633523</dd>\n",
       "</dl>\n"
      ],
      "text/latex": [
       "\\begin{description*}\n",
       "\\item[nbr.val] 480\n",
       "\\item[nbr.null] 0\n",
       "\\item[nbr.na] 0\n",
       "\\item[min] 9\n",
       "\\item[max] 600\n",
       "\\item[range] 591\n",
       "\\item[sum] 69473\n",
       "\\item[median] 128\n",
       "\\item[mean] 144.735416666667\n",
       "\\item[SE.mean] 3.67467813359359\n",
       "\\item[CI.mean.0.95] 7.22048111222953\n",
       "\\item[var] 6481.56450504523\n",
       "\\item[std.dev] 80.5081642136078\n",
       "\\item[coef.var] 0.556243703633523\n",
       "\\end{description*}\n"
      ],
      "text/markdown": [
       "nbr.val\n",
       ":   480nbr.null\n",
       ":   0nbr.na\n",
       ":   0min\n",
       ":   9max\n",
       ":   600range\n",
       ":   591sum\n",
       ":   69473median\n",
       ":   128mean\n",
       ":   144.735416666667SE.mean\n",
       ":   3.67467813359359CI.mean.0.95\n",
       ":   7.22048111222953var\n",
       ":   6481.56450504523std.dev\n",
       ":   80.5081642136078coef.var\n",
       ":   0.556243703633523\n",
       "\n"
      ],
      "text/plain": [
       "     nbr.val     nbr.null       nbr.na          min          max        range \n",
       "4.800000e+02 0.000000e+00 0.000000e+00 9.000000e+00 6.000000e+02 5.910000e+02 \n",
       "         sum       median         mean      SE.mean CI.mean.0.95          var \n",
       "6.947300e+04 1.280000e+02 1.447354e+02 3.674678e+00 7.220481e+00 6.481565e+03 \n",
       "     std.dev     coef.var \n",
       "8.050816e+01 5.562437e-01 "
      ]
     },
     "metadata": {},
     "output_type": "display_data"
    },
    {
     "data": {
      "text/html": [
       "<dl class=dl-horizontal>\n",
       "\t<dt>nbr.val</dt>\n",
       "\t\t<dd>480</dd>\n",
       "\t<dt>nbr.null</dt>\n",
       "\t\t<dd>0</dd>\n",
       "\t<dt>nbr.na</dt>\n",
       "\t\t<dd>0</dd>\n",
       "\t<dt>min</dt>\n",
       "\t\t<dd>36</dd>\n",
       "\t<dt>max</dt>\n",
       "\t\t<dd>480</dd>\n",
       "\t<dt>range</dt>\n",
       "\t\t<dd>444</dd>\n",
       "\t<dt>sum</dt>\n",
       "\t\t<dd>164184</dd>\n",
       "\t<dt>median</dt>\n",
       "\t\t<dd>360</dd>\n",
       "\t<dt>mean</dt>\n",
       "\t\t<dd>342.05</dd>\n",
       "\t<dt>SE.mean</dt>\n",
       "\t\t<dd>2.97652524014482</dd>\n",
       "\t<dt>CI.mean.0.95</dt>\n",
       "\t\t<dd>5.8486603438986</dd>\n",
       "\t<dt>var</dt>\n",
       "\t\t<dd>4252.65720250522</dd>\n",
       "\t<dt>std.dev</dt>\n",
       "\t\t<dd>65.2124006804321</dd>\n",
       "\t<dt>coef.var</dt>\n",
       "\t\t<dd>0.190651661103441</dd>\n",
       "</dl>\n"
      ],
      "text/latex": [
       "\\begin{description*}\n",
       "\\item[nbr.val] 480\n",
       "\\item[nbr.null] 0\n",
       "\\item[nbr.na] 0\n",
       "\\item[min] 36\n",
       "\\item[max] 480\n",
       "\\item[range] 444\n",
       "\\item[sum] 164184\n",
       "\\item[median] 360\n",
       "\\item[mean] 342.05\n",
       "\\item[SE.mean] 2.97652524014482\n",
       "\\item[CI.mean.0.95] 5.8486603438986\n",
       "\\item[var] 4252.65720250522\n",
       "\\item[std.dev] 65.2124006804321\n",
       "\\item[coef.var] 0.190651661103441\n",
       "\\end{description*}\n"
      ],
      "text/markdown": [
       "nbr.val\n",
       ":   480nbr.null\n",
       ":   0nbr.na\n",
       ":   0min\n",
       ":   36max\n",
       ":   480range\n",
       ":   444sum\n",
       ":   164184median\n",
       ":   360mean\n",
       ":   342.05SE.mean\n",
       ":   2.97652524014482CI.mean.0.95\n",
       ":   5.8486603438986var\n",
       ":   4252.65720250522std.dev\n",
       ":   65.2124006804321coef.var\n",
       ":   0.190651661103441\n",
       "\n"
      ],
      "text/plain": [
       "     nbr.val     nbr.null       nbr.na          min          max        range \n",
       "4.800000e+02 0.000000e+00 0.000000e+00 3.600000e+01 4.800000e+02 4.440000e+02 \n",
       "         sum       median         mean      SE.mean CI.mean.0.95          var \n",
       "1.641840e+05 3.600000e+02 3.420500e+02 2.976525e+00 5.848660e+00 4.252657e+03 \n",
       "     std.dev     coef.var \n",
       "6.521240e+01 1.906517e-01 "
      ]
     },
     "metadata": {},
     "output_type": "display_data"
    },
    {
     "data": {
      "text/html": [
       "<dl class=dl-horizontal>\n",
       "\t<dt>nbr.val</dt>\n",
       "\t\t<dd>480</dd>\n",
       "\t<dt>nbr.null</dt>\n",
       "\t\t<dd>70</dd>\n",
       "\t<dt>nbr.na</dt>\n",
       "\t\t<dd>0</dd>\n",
       "\t<dt>min</dt>\n",
       "\t\t<dd>0</dd>\n",
       "\t<dt>max</dt>\n",
       "\t\t<dd>1</dd>\n",
       "\t<dt>range</dt>\n",
       "\t\t<dd>1</dd>\n",
       "\t<dt>sum</dt>\n",
       "\t\t<dd>410</dd>\n",
       "\t<dt>median</dt>\n",
       "\t\t<dd>1</dd>\n",
       "\t<dt>mean</dt>\n",
       "\t\t<dd>0.854166666666667</dd>\n",
       "\t<dt>SE.mean</dt>\n",
       "\t\t<dd>0.0161261967542968</dd>\n",
       "\t<dt>CI.mean.0.95</dt>\n",
       "\t\t<dd>0.031686829388409</dd>\n",
       "\t<dt>var</dt>\n",
       "\t\t<dd>0.124826026443981</dd>\n",
       "\t<dt>std.dev</dt>\n",
       "\t\t<dd>0.353307269163798</dd>\n",
       "\t<dt>coef.var</dt>\n",
       "\t\t<dd>0.413628022435666</dd>\n",
       "</dl>\n"
      ],
      "text/latex": [
       "\\begin{description*}\n",
       "\\item[nbr.val] 480\n",
       "\\item[nbr.null] 70\n",
       "\\item[nbr.na] 0\n",
       "\\item[min] 0\n",
       "\\item[max] 1\n",
       "\\item[range] 1\n",
       "\\item[sum] 410\n",
       "\\item[median] 1\n",
       "\\item[mean] 0.854166666666667\n",
       "\\item[SE.mean] 0.0161261967542968\n",
       "\\item[CI.mean.0.95] 0.031686829388409\n",
       "\\item[var] 0.124826026443981\n",
       "\\item[std.dev] 0.353307269163798\n",
       "\\item[coef.var] 0.413628022435666\n",
       "\\end{description*}\n"
      ],
      "text/markdown": [
       "nbr.val\n",
       ":   480nbr.null\n",
       ":   70nbr.na\n",
       ":   0min\n",
       ":   0max\n",
       ":   1range\n",
       ":   1sum\n",
       ":   410median\n",
       ":   1mean\n",
       ":   0.854166666666667SE.mean\n",
       ":   0.0161261967542968CI.mean.0.95\n",
       ":   0.031686829388409var\n",
       ":   0.124826026443981std.dev\n",
       ":   0.353307269163798coef.var\n",
       ":   0.413628022435666\n",
       "\n"
      ],
      "text/plain": [
       "     nbr.val     nbr.null       nbr.na          min          max        range \n",
       "480.00000000  70.00000000   0.00000000   0.00000000   1.00000000   1.00000000 \n",
       "         sum       median         mean      SE.mean CI.mean.0.95          var \n",
       "410.00000000   1.00000000   0.85416667   0.01612620   0.03168683   0.12482603 \n",
       "     std.dev     coef.var \n",
       "  0.35330727   0.41362802 "
      ]
     },
     "metadata": {},
     "output_type": "display_data"
    },
    {
     "data": {
      "text/html": [
       "<table>\n",
       "<thead><tr><th></th><th scope=col>x</th></tr></thead>\n",
       "<tbody>\n",
       "\t<tr><th scope=row>nbr.val</th><td>NA</td></tr>\n",
       "\t<tr><th scope=row>nbr.null</th><td>NA</td></tr>\n",
       "\t<tr><th scope=row>nbr.na</th><td>NA</td></tr>\n",
       "\t<tr><th scope=row>min</th><td>NA</td></tr>\n",
       "\t<tr><th scope=row>max</th><td>NA</td></tr>\n",
       "\t<tr><th scope=row>range</th><td>NA</td></tr>\n",
       "\t<tr><th scope=row>sum</th><td>NA</td></tr>\n",
       "\t<tr><th scope=row>median</th><td>NA</td></tr>\n",
       "\t<tr><th scope=row>mean</th><td>NA</td></tr>\n",
       "\t<tr><th scope=row>SE.mean</th><td>NA</td></tr>\n",
       "\t<tr><th scope=row>CI.mean</th><td>NA</td></tr>\n",
       "\t<tr><th scope=row>var</th><td>NA</td></tr>\n",
       "\t<tr><th scope=row>std.dev</th><td>NA</td></tr>\n",
       "\t<tr><th scope=row>coef.var</th><td>NA</td></tr>\n",
       "</tbody>\n",
       "</table>\n"
      ],
      "text/latex": [
       "\\begin{tabular}{r|l}\n",
       "  & x\\\\\n",
       "\\hline\n",
       "\tnbr.val & NA\\\\\n",
       "\tnbr.null & NA\\\\\n",
       "\tnbr.na & NA\\\\\n",
       "\tmin & NA\\\\\n",
       "\tmax & NA\\\\\n",
       "\trange & NA\\\\\n",
       "\tsum & NA\\\\\n",
       "\tmedian & NA\\\\\n",
       "\tmean & NA\\\\\n",
       "\tSE.mean & NA\\\\\n",
       "\tCI.mean & NA\\\\\n",
       "\tvar & NA\\\\\n",
       "\tstd.dev & NA\\\\\n",
       "\tcoef.var & NA\\\\\n",
       "\\end{tabular}\n"
      ],
      "text/markdown": [
       "\n",
       "| <!--/--> | x |\n",
       "|---|---|\n",
       "| nbr.val | NA |\n",
       "| nbr.null | NA |\n",
       "| nbr.na | NA |\n",
       "| min | NA |\n",
       "| max | NA |\n",
       "| range | NA |\n",
       "| sum | NA |\n",
       "| median | NA |\n",
       "| mean | NA |\n",
       "| SE.mean | NA |\n",
       "| CI.mean | NA |\n",
       "| var | NA |\n",
       "| std.dev | NA |\n",
       "| coef.var | NA |\n",
       "\n"
      ],
      "text/plain": [
       "         x \n",
       "nbr.val  NA\n",
       "nbr.null NA\n",
       "nbr.na   NA\n",
       "min      NA\n",
       "max      NA\n",
       "range    NA\n",
       "sum      NA\n",
       "median   NA\n",
       "mean     NA\n",
       "SE.mean  NA\n",
       "CI.mean  NA\n",
       "var      NA\n",
       "std.dev  NA\n",
       "coef.var NA"
      ]
     },
     "metadata": {},
     "output_type": "display_data"
    },
    {
     "data": {
      "text/html": [
       "<table>\n",
       "<thead><tr><th></th><th scope=col>x</th></tr></thead>\n",
       "<tbody>\n",
       "\t<tr><th scope=row>nbr.val</th><td>NA</td></tr>\n",
       "\t<tr><th scope=row>nbr.null</th><td>NA</td></tr>\n",
       "\t<tr><th scope=row>nbr.na</th><td>NA</td></tr>\n",
       "\t<tr><th scope=row>min</th><td>NA</td></tr>\n",
       "\t<tr><th scope=row>max</th><td>NA</td></tr>\n",
       "\t<tr><th scope=row>range</th><td>NA</td></tr>\n",
       "\t<tr><th scope=row>sum</th><td>NA</td></tr>\n",
       "\t<tr><th scope=row>median</th><td>NA</td></tr>\n",
       "\t<tr><th scope=row>mean</th><td>NA</td></tr>\n",
       "\t<tr><th scope=row>SE.mean</th><td>NA</td></tr>\n",
       "\t<tr><th scope=row>CI.mean</th><td>NA</td></tr>\n",
       "\t<tr><th scope=row>var</th><td>NA</td></tr>\n",
       "\t<tr><th scope=row>std.dev</th><td>NA</td></tr>\n",
       "\t<tr><th scope=row>coef.var</th><td>NA</td></tr>\n",
       "</tbody>\n",
       "</table>\n"
      ],
      "text/latex": [
       "\\begin{tabular}{r|l}\n",
       "  & x\\\\\n",
       "\\hline\n",
       "\tnbr.val & NA\\\\\n",
       "\tnbr.null & NA\\\\\n",
       "\tnbr.na & NA\\\\\n",
       "\tmin & NA\\\\\n",
       "\tmax & NA\\\\\n",
       "\trange & NA\\\\\n",
       "\tsum & NA\\\\\n",
       "\tmedian & NA\\\\\n",
       "\tmean & NA\\\\\n",
       "\tSE.mean & NA\\\\\n",
       "\tCI.mean & NA\\\\\n",
       "\tvar & NA\\\\\n",
       "\tstd.dev & NA\\\\\n",
       "\tcoef.var & NA\\\\\n",
       "\\end{tabular}\n"
      ],
      "text/markdown": [
       "\n",
       "| <!--/--> | x |\n",
       "|---|---|\n",
       "| nbr.val | NA |\n",
       "| nbr.null | NA |\n",
       "| nbr.na | NA |\n",
       "| min | NA |\n",
       "| max | NA |\n",
       "| range | NA |\n",
       "| sum | NA |\n",
       "| median | NA |\n",
       "| mean | NA |\n",
       "| SE.mean | NA |\n",
       "| CI.mean | NA |\n",
       "| var | NA |\n",
       "| std.dev | NA |\n",
       "| coef.var | NA |\n",
       "\n"
      ],
      "text/plain": [
       "         x \n",
       "nbr.val  NA\n",
       "nbr.null NA\n",
       "nbr.na   NA\n",
       "min      NA\n",
       "max      NA\n",
       "range    NA\n",
       "sum      NA\n",
       "median   NA\n",
       "mean     NA\n",
       "SE.mean  NA\n",
       "CI.mean  NA\n",
       "var      NA\n",
       "std.dev  NA\n",
       "coef.var NA"
      ]
     },
     "metadata": {},
     "output_type": "display_data"
    }
   ],
   "source": [
    "# 1-d Print descriptive detail of a column in dataset\n",
    "\n",
    "stat.desc(df_nonull$Loan_ID)\n",
    "stat.desc(df_nonull$Gender)\n",
    "stat.desc(df_nonull$Married)\n",
    "stat.desc(df_nonull$Dependents)\n",
    "stat.desc(df_nonull$Education)\n",
    "stat.desc(df_nonull$Self_Employed)\n",
    "stat.desc(df_nonull$ApplicantIncome)\n",
    "stat.desc(df_nonull$CoapplicantIncome)\n",
    "stat.desc(df_nonull$LoanAmount)\n",
    "stat.desc(df_nonull$Loan_Amount_Term)\n",
    "stat.desc(df_nonull$Credit_History)\n",
    "stat.desc(df_nonull$Property_Area)\n",
    "stat.desc(df_nonull$Loan_Status)\n"
   ]
  },
  {
   "cell_type": "code",
   "execution_count": 12,
   "id": "2c1b0165",
   "metadata": {},
   "outputs": [
    {
     "data": {
      "text/html": [
       "<table>\n",
       "<thead><tr><th></th><th scope=col>Loan_ID</th><th scope=col>Gender</th><th scope=col>Married</th><th scope=col>Dependents</th><th scope=col>Education</th><th scope=col>Self_Employed</th><th scope=col>ApplicantIncome</th><th scope=col>CoapplicantIncome</th><th scope=col>LoanAmount</th><th scope=col>Loan_Amount_Term</th><th scope=col>Credit_History</th><th scope=col>Property_Area</th><th scope=col>Loan_Status</th></tr></thead>\n",
       "<tbody>\n",
       "\t<tr><th scope=row>2</th><td>LP001003    </td><td>Male        </td><td>Yes         </td><td>1           </td><td>Graduate    </td><td>No          </td><td>4583        </td><td>1508        </td><td>128         </td><td>360         </td><td>1           </td><td>Rural       </td><td>N           </td></tr>\n",
       "\t<tr><th scope=row>3</th><td>LP001005    </td><td>Male        </td><td>Yes         </td><td>0           </td><td>Graduate    </td><td>Yes         </td><td>3000        </td><td>   0        </td><td> 66         </td><td>360         </td><td>1           </td><td>Urban       </td><td>Y           </td></tr>\n",
       "\t<tr><th scope=row>5</th><td>LP001008    </td><td>Male        </td><td>No          </td><td>0           </td><td>Graduate    </td><td>No          </td><td>6000        </td><td>   0        </td><td>141         </td><td>360         </td><td>1           </td><td>Urban       </td><td>Y           </td></tr>\n",
       "\t<tr><th scope=row>6</th><td>LP001011    </td><td>Male        </td><td>Yes         </td><td>2           </td><td>Graduate    </td><td>Yes         </td><td>5417        </td><td>4196        </td><td>267         </td><td>360         </td><td>1           </td><td>Urban       </td><td>Y           </td></tr>\n",
       "\t<tr><th scope=row>7</th><td>LP001013    </td><td>Male        </td><td>Yes         </td><td>0           </td><td>Not Graduate</td><td>No          </td><td>2333        </td><td>1516        </td><td> 95         </td><td>360         </td><td>1           </td><td>Urban       </td><td>Y           </td></tr>\n",
       "</tbody>\n",
       "</table>\n"
      ],
      "text/latex": [
       "\\begin{tabular}{r|lllllllllllll}\n",
       "  & Loan\\_ID & Gender & Married & Dependents & Education & Self\\_Employed & ApplicantIncome & CoapplicantIncome & LoanAmount & Loan\\_Amount\\_Term & Credit\\_History & Property\\_Area & Loan\\_Status\\\\\n",
       "\\hline\n",
       "\t2 & LP001003     & Male         & Yes          & 1            & Graduate     & No           & 4583         & 1508         & 128          & 360          & 1            & Rural        & N           \\\\\n",
       "\t3 & LP001005     & Male         & Yes          & 0            & Graduate     & Yes          & 3000         &    0         &  66          & 360          & 1            & Urban        & Y           \\\\\n",
       "\t5 & LP001008     & Male         & No           & 0            & Graduate     & No           & 6000         &    0         & 141          & 360          & 1            & Urban        & Y           \\\\\n",
       "\t6 & LP001011     & Male         & Yes          & 2            & Graduate     & Yes          & 5417         & 4196         & 267          & 360          & 1            & Urban        & Y           \\\\\n",
       "\t7 & LP001013     & Male         & Yes          & 0            & Not Graduate & No           & 2333         & 1516         &  95          & 360          & 1            & Urban        & Y           \\\\\n",
       "\\end{tabular}\n"
      ],
      "text/markdown": [
       "\n",
       "| <!--/--> | Loan_ID | Gender | Married | Dependents | Education | Self_Employed | ApplicantIncome | CoapplicantIncome | LoanAmount | Loan_Amount_Term | Credit_History | Property_Area | Loan_Status |\n",
       "|---|---|---|---|---|---|---|---|---|---|---|---|---|---|\n",
       "| 2 | LP001003     | Male         | Yes          | 1            | Graduate     | No           | 4583         | 1508         | 128          | 360          | 1            | Rural        | N            |\n",
       "| 3 | LP001005     | Male         | Yes          | 0            | Graduate     | Yes          | 3000         |    0         |  66          | 360          | 1            | Urban        | Y            |\n",
       "| 5 | LP001008     | Male         | No           | 0            | Graduate     | No           | 6000         |    0         | 141          | 360          | 1            | Urban        | Y            |\n",
       "| 6 | LP001011     | Male         | Yes          | 2            | Graduate     | Yes          | 5417         | 4196         | 267          | 360          | 1            | Urban        | Y            |\n",
       "| 7 | LP001013     | Male         | Yes          | 0            | Not Graduate | No           | 2333         | 1516         |  95          | 360          | 1            | Urban        | Y            |\n",
       "\n"
      ],
      "text/plain": [
       "  Loan_ID  Gender Married Dependents Education    Self_Employed ApplicantIncome\n",
       "2 LP001003 Male   Yes     1          Graduate     No            4583           \n",
       "3 LP001005 Male   Yes     0          Graduate     Yes           3000           \n",
       "5 LP001008 Male   No      0          Graduate     No            6000           \n",
       "6 LP001011 Male   Yes     2          Graduate     Yes           5417           \n",
       "7 LP001013 Male   Yes     0          Not Graduate No            2333           \n",
       "  CoapplicantIncome LoanAmount Loan_Amount_Term Credit_History Property_Area\n",
       "2 1508              128        360              1              Rural        \n",
       "3    0               66        360              1              Urban        \n",
       "5    0              141        360              1              Urban        \n",
       "6 4196              267        360              1              Urban        \n",
       "7 1516               95        360              1              Urban        \n",
       "  Loan_Status\n",
       "2 N          \n",
       "3 Y          \n",
       "5 Y          \n",
       "6 Y          \n",
       "7 Y          "
      ]
     },
     "metadata": {},
     "output_type": "display_data"
    },
    {
     "data": {
      "text/html": [
       "<table>\n",
       "<thead><tr><th></th><th scope=col>Loan_ID</th><th scope=col>Gender</th><th scope=col>Married</th><th scope=col>Dependents</th><th scope=col>Education</th><th scope=col>Self_Employed</th><th scope=col>ApplicantIncome</th><th scope=col>CoapplicantIncome</th><th scope=col>LoanAmount</th><th scope=col>Loan_Amount_Term</th><th scope=col>Credit_History</th><th scope=col>Property_Area</th><th scope=col>Loan_Status</th></tr></thead>\n",
       "<tbody>\n",
       "\t<tr><th scope=row>4</th><td>LP001006    </td><td>Male        </td><td>Yes         </td><td>0           </td><td>Not Graduate</td><td>No          </td><td>2583        </td><td>2358        </td><td>120         </td><td>360         </td><td>1           </td><td>Urban       </td><td>Y           </td></tr>\n",
       "\t<tr><th scope=row>9</th><td>LP001018    </td><td>Male        </td><td>Yes         </td><td>2           </td><td>Graduate    </td><td>No          </td><td>4006        </td><td>1526        </td><td>168         </td><td>360         </td><td>1           </td><td>Urban       </td><td>Y           </td></tr>\n",
       "\t<tr><th scope=row>19</th><td>LP001038    </td><td>Male        </td><td>Yes         </td><td>0           </td><td>Not Graduate</td><td>No          </td><td>4887        </td><td>   0        </td><td>133         </td><td>360         </td><td>1           </td><td>Rural       </td><td>N           </td></tr>\n",
       "\t<tr><th scope=row>27</th><td>LP001068    </td><td>Male        </td><td>Yes         </td><td>0           </td><td>Graduate    </td><td>No          </td><td>2799        </td><td>2253        </td><td>122         </td><td>360         </td><td>1           </td><td>Semiurban   </td><td>Y           </td></tr>\n",
       "\t<tr><th scope=row>39</th><td>LP001114    </td><td>Male        </td><td>No          </td><td>0           </td><td>Graduate    </td><td>No          </td><td>4166        </td><td>7210        </td><td>184         </td><td>360         </td><td>1           </td><td>Urban       </td><td>Y           </td></tr>\n",
       "</tbody>\n",
       "</table>\n"
      ],
      "text/latex": [
       "\\begin{tabular}{r|lllllllllllll}\n",
       "  & Loan\\_ID & Gender & Married & Dependents & Education & Self\\_Employed & ApplicantIncome & CoapplicantIncome & LoanAmount & Loan\\_Amount\\_Term & Credit\\_History & Property\\_Area & Loan\\_Status\\\\\n",
       "\\hline\n",
       "\t4 & LP001006     & Male         & Yes          & 0            & Not Graduate & No           & 2583         & 2358         & 120          & 360          & 1            & Urban        & Y           \\\\\n",
       "\t9 & LP001018     & Male         & Yes          & 2            & Graduate     & No           & 4006         & 1526         & 168          & 360          & 1            & Urban        & Y           \\\\\n",
       "\t19 & LP001038     & Male         & Yes          & 0            & Not Graduate & No           & 4887         &    0         & 133          & 360          & 1            & Rural        & N           \\\\\n",
       "\t27 & LP001068     & Male         & Yes          & 0            & Graduate     & No           & 2799         & 2253         & 122          & 360          & 1            & Semiurban    & Y           \\\\\n",
       "\t39 & LP001114     & Male         & No           & 0            & Graduate     & No           & 4166         & 7210         & 184          & 360          & 1            & Urban        & Y           \\\\\n",
       "\\end{tabular}\n"
      ],
      "text/markdown": [
       "\n",
       "| <!--/--> | Loan_ID | Gender | Married | Dependents | Education | Self_Employed | ApplicantIncome | CoapplicantIncome | LoanAmount | Loan_Amount_Term | Credit_History | Property_Area | Loan_Status |\n",
       "|---|---|---|---|---|---|---|---|---|---|---|---|---|---|\n",
       "| 4 | LP001006     | Male         | Yes          | 0            | Not Graduate | No           | 2583         | 2358         | 120          | 360          | 1            | Urban        | Y            |\n",
       "| 9 | LP001018     | Male         | Yes          | 2            | Graduate     | No           | 4006         | 1526         | 168          | 360          | 1            | Urban        | Y            |\n",
       "| 19 | LP001038     | Male         | Yes          | 0            | Not Graduate | No           | 4887         |    0         | 133          | 360          | 1            | Rural        | N            |\n",
       "| 27 | LP001068     | Male         | Yes          | 0            | Graduate     | No           | 2799         | 2253         | 122          | 360          | 1            | Semiurban    | Y            |\n",
       "| 39 | LP001114     | Male         | No           | 0            | Graduate     | No           | 4166         | 7210         | 184          | 360          | 1            | Urban        | Y            |\n",
       "\n"
      ],
      "text/plain": [
       "   Loan_ID  Gender Married Dependents Education    Self_Employed\n",
       "4  LP001006 Male   Yes     0          Not Graduate No           \n",
       "9  LP001018 Male   Yes     2          Graduate     No           \n",
       "19 LP001038 Male   Yes     0          Not Graduate No           \n",
       "27 LP001068 Male   Yes     0          Graduate     No           \n",
       "39 LP001114 Male   No      0          Graduate     No           \n",
       "   ApplicantIncome CoapplicantIncome LoanAmount Loan_Amount_Term Credit_History\n",
       "4  2583            2358              120        360              1             \n",
       "9  4006            1526              168        360              1             \n",
       "19 4887               0              133        360              1             \n",
       "27 2799            2253              122        360              1             \n",
       "39 4166            7210              184        360              1             \n",
       "   Property_Area Loan_Status\n",
       "4  Urban         Y          \n",
       "9  Urban         Y          \n",
       "19 Rural         N          \n",
       "27 Semiurban     Y          \n",
       "39 Urban         Y          "
      ]
     },
     "metadata": {},
     "output_type": "display_data"
    }
   ],
   "source": [
    "# Data Pre-processing for R\n",
    "\n",
    "split = sample.split(df_nonull, SplitRatio = 0.9)\n",
    "test_set = subset(df_nonull, split == FALSE)\n",
    "training_set = subset(df_nonull, split == TRUE)\n",
    "\n",
    "head(training_set,5)\n",
    "head(test_set,5)"
   ]
  },
  {
   "cell_type": "markdown",
   "id": "7e386d61",
   "metadata": {},
   "source": [
    "# Task 2: Aggregation & Filtering & Rank (30 points)"
   ]
  },
  {
   "cell_type": "code",
   "execution_count": 13,
   "id": "eb19feff",
   "metadata": {},
   "outputs": [
    {
     "data": {
      "text/html": [
       "105"
      ],
      "text/latex": [
       "105"
      ],
      "text/markdown": [
       "105"
      ],
      "text/plain": [
       "[1] 105"
      ]
     },
     "metadata": {},
     "output_type": "display_data"
    }
   ],
   "source": [
    "# Task 2-a: Find out the number of graduates from rural area\n",
    "\n",
    "gradfromrural <- subset( df_nonull, df_nonull$Education == 'Graduate' & df_nonull$Property_Area == 'Rural')\n",
    "nrow(gradfromrural)"
   ]
  },
  {
   "cell_type": "code",
   "execution_count": 14,
   "id": "4488bf58",
   "metadata": {},
   "outputs": [
    {
     "data": {
      "text/html": [
       "84"
      ],
      "text/latex": [
       "84"
      ],
      "text/markdown": [
       "84"
      ],
      "text/plain": [
       "[1] 84"
      ]
     },
     "metadata": {},
     "output_type": "display_data"
    }
   ],
   "source": [
    "# Task 2-b: determine the overall number of men who did not graduate\n",
    "\n",
    "mennograd <- subset( df_nonull, df_nonull$Gender == 'Male' & df_nonull$Education == 'Not Graduate')\n",
    "nrow(mennograd)"
   ]
  },
  {
   "cell_type": "code",
   "execution_count": 15,
   "id": "cb6ce750",
   "metadata": {},
   "outputs": [
    {
     "data": {
      "text/html": [
       "<table>\n",
       "<thead><tr><th></th><th scope=col>Loan_ID</th><th scope=col>Gender</th><th scope=col>Married</th><th scope=col>Dependents</th><th scope=col>Education</th><th scope=col>Self_Employed</th><th scope=col>ApplicantIncome</th><th scope=col>CoapplicantIncome</th><th scope=col>LoanAmount</th><th scope=col>Loan_Amount_Term</th><th scope=col>Credit_History</th><th scope=col>Property_Area</th><th scope=col>Loan_Status</th></tr></thead>\n",
       "<tbody>\n",
       "\t<tr><th scope=row>410</th><td>LP002317 </td><td>Male     </td><td>Yes      </td><td>3+       </td><td>Graduate </td><td>No       </td><td>81000    </td><td>   0     </td><td>360      </td><td>360      </td><td>0        </td><td>Rural    </td><td>N        </td></tr>\n",
       "\t<tr><th scope=row>156</th><td>LP001536 </td><td>Male     </td><td>Yes      </td><td>3+       </td><td>Graduate </td><td>No       </td><td>39999    </td><td>   0     </td><td>600      </td><td>180      </td><td>0        </td><td>Semiurban</td><td>Y        </td></tr>\n",
       "\t<tr><th scope=row>186</th><td>LP001640 </td><td>Male     </td><td>Yes      </td><td>0        </td><td>Graduate </td><td>Yes      </td><td>39147    </td><td>4750     </td><td>120      </td><td>360      </td><td>1        </td><td>Semiurban</td><td>Y        </td></tr>\n",
       "\t<tr><th scope=row>444</th><td>LP002422 </td><td>Male     </td><td>No       </td><td>1        </td><td>Graduate </td><td>No       </td><td>37719    </td><td>   0     </td><td>152      </td><td>360      </td><td>1        </td><td>Semiurban</td><td>Y        </td></tr>\n",
       "\t<tr><th scope=row>184</th><td>LP001637 </td><td>Male     </td><td>Yes      </td><td>1        </td><td>Graduate </td><td>No       </td><td>33846    </td><td>   0     </td><td>260      </td><td>360      </td><td>1        </td><td>Semiurban</td><td>N        </td></tr>\n",
       "\t<tr><th scope=row>309</th><td>LP001996 </td><td>Male     </td><td>No       </td><td>0        </td><td>Graduate </td><td>No       </td><td>20233    </td><td>   0     </td><td>480      </td><td>360      </td><td>1        </td><td>Rural    </td><td>N        </td></tr>\n",
       "\t<tr><th scope=row>370</th><td>LP002191 </td><td>Male     </td><td>Yes      </td><td>0        </td><td>Graduate </td><td>No       </td><td>19730    </td><td>5266     </td><td>570      </td><td>360      </td><td>1        </td><td>Rural    </td><td>N        </td></tr>\n",
       "\t<tr><th scope=row>562</th><td>LP002813 </td><td>Female   </td><td>Yes      </td><td>1        </td><td>Graduate </td><td>Yes      </td><td>19484    </td><td>   0     </td><td>600      </td><td>360      </td><td>1        </td><td>Semiurban</td><td>Y        </td></tr>\n",
       "\t<tr><th scope=row>488</th><td>LP002547 </td><td>Male     </td><td>Yes      </td><td>1        </td><td>Graduate </td><td>No       </td><td>18333    </td><td>   0     </td><td>500      </td><td>360      </td><td>1        </td><td>Urban    </td><td>N        </td></tr>\n",
       "\t<tr><th scope=row>526</th><td>LP002699 </td><td>Male     </td><td>Yes      </td><td>2        </td><td>Graduate </td><td>Yes      </td><td>17500    </td><td>   0     </td><td>400      </td><td>360      </td><td>1        </td><td>Rural    </td><td>Y        </td></tr>\n",
       "</tbody>\n",
       "</table>\n"
      ],
      "text/latex": [
       "\\begin{tabular}{r|lllllllllllll}\n",
       "  & Loan\\_ID & Gender & Married & Dependents & Education & Self\\_Employed & ApplicantIncome & CoapplicantIncome & LoanAmount & Loan\\_Amount\\_Term & Credit\\_History & Property\\_Area & Loan\\_Status\\\\\n",
       "\\hline\n",
       "\t410 & LP002317  & Male      & Yes       & 3+        & Graduate  & No        & 81000     &    0      & 360       & 360       & 0         & Rural     & N        \\\\\n",
       "\t156 & LP001536  & Male      & Yes       & 3+        & Graduate  & No        & 39999     &    0      & 600       & 180       & 0         & Semiurban & Y        \\\\\n",
       "\t186 & LP001640  & Male      & Yes       & 0         & Graduate  & Yes       & 39147     & 4750      & 120       & 360       & 1         & Semiurban & Y        \\\\\n",
       "\t444 & LP002422  & Male      & No        & 1         & Graduate  & No        & 37719     &    0      & 152       & 360       & 1         & Semiurban & Y        \\\\\n",
       "\t184 & LP001637  & Male      & Yes       & 1         & Graduate  & No        & 33846     &    0      & 260       & 360       & 1         & Semiurban & N        \\\\\n",
       "\t309 & LP001996  & Male      & No        & 0         & Graduate  & No        & 20233     &    0      & 480       & 360       & 1         & Rural     & N        \\\\\n",
       "\t370 & LP002191  & Male      & Yes       & 0         & Graduate  & No        & 19730     & 5266      & 570       & 360       & 1         & Rural     & N        \\\\\n",
       "\t562 & LP002813  & Female    & Yes       & 1         & Graduate  & Yes       & 19484     &    0      & 600       & 360       & 1         & Semiurban & Y        \\\\\n",
       "\t488 & LP002547  & Male      & Yes       & 1         & Graduate  & No        & 18333     &    0      & 500       & 360       & 1         & Urban     & N        \\\\\n",
       "\t526 & LP002699  & Male      & Yes       & 2         & Graduate  & Yes       & 17500     &    0      & 400       & 360       & 1         & Rural     & Y        \\\\\n",
       "\\end{tabular}\n"
      ],
      "text/markdown": [
       "\n",
       "| <!--/--> | Loan_ID | Gender | Married | Dependents | Education | Self_Employed | ApplicantIncome | CoapplicantIncome | LoanAmount | Loan_Amount_Term | Credit_History | Property_Area | Loan_Status |\n",
       "|---|---|---|---|---|---|---|---|---|---|---|---|---|---|\n",
       "| 410 | LP002317  | Male      | Yes       | 3+        | Graduate  | No        | 81000     |    0      | 360       | 360       | 0         | Rural     | N         |\n",
       "| 156 | LP001536  | Male      | Yes       | 3+        | Graduate  | No        | 39999     |    0      | 600       | 180       | 0         | Semiurban | Y         |\n",
       "| 186 | LP001640  | Male      | Yes       | 0         | Graduate  | Yes       | 39147     | 4750      | 120       | 360       | 1         | Semiurban | Y         |\n",
       "| 444 | LP002422  | Male      | No        | 1         | Graduate  | No        | 37719     |    0      | 152       | 360       | 1         | Semiurban | Y         |\n",
       "| 184 | LP001637  | Male      | Yes       | 1         | Graduate  | No        | 33846     |    0      | 260       | 360       | 1         | Semiurban | N         |\n",
       "| 309 | LP001996  | Male      | No        | 0         | Graduate  | No        | 20233     |    0      | 480       | 360       | 1         | Rural     | N         |\n",
       "| 370 | LP002191  | Male      | Yes       | 0         | Graduate  | No        | 19730     | 5266      | 570       | 360       | 1         | Rural     | N         |\n",
       "| 562 | LP002813  | Female    | Yes       | 1         | Graduate  | Yes       | 19484     |    0      | 600       | 360       | 1         | Semiurban | Y         |\n",
       "| 488 | LP002547  | Male      | Yes       | 1         | Graduate  | No        | 18333     |    0      | 500       | 360       | 1         | Urban     | N         |\n",
       "| 526 | LP002699  | Male      | Yes       | 2         | Graduate  | Yes       | 17500     |    0      | 400       | 360       | 1         | Rural     | Y         |\n",
       "\n"
      ],
      "text/plain": [
       "    Loan_ID  Gender Married Dependents Education Self_Employed ApplicantIncome\n",
       "410 LP002317 Male   Yes     3+         Graduate  No            81000          \n",
       "156 LP001536 Male   Yes     3+         Graduate  No            39999          \n",
       "186 LP001640 Male   Yes     0          Graduate  Yes           39147          \n",
       "444 LP002422 Male   No      1          Graduate  No            37719          \n",
       "184 LP001637 Male   Yes     1          Graduate  No            33846          \n",
       "309 LP001996 Male   No      0          Graduate  No            20233          \n",
       "370 LP002191 Male   Yes     0          Graduate  No            19730          \n",
       "562 LP002813 Female Yes     1          Graduate  Yes           19484          \n",
       "488 LP002547 Male   Yes     1          Graduate  No            18333          \n",
       "526 LP002699 Male   Yes     2          Graduate  Yes           17500          \n",
       "    CoapplicantIncome LoanAmount Loan_Amount_Term Credit_History Property_Area\n",
       "410    0              360        360              0              Rural        \n",
       "156    0              600        180              0              Semiurban    \n",
       "186 4750              120        360              1              Semiurban    \n",
       "444    0              152        360              1              Semiurban    \n",
       "184    0              260        360              1              Semiurban    \n",
       "309    0              480        360              1              Rural        \n",
       "370 5266              570        360              1              Rural        \n",
       "562    0              600        360              1              Semiurban    \n",
       "488    0              500        360              1              Urban        \n",
       "526    0              400        360              1              Rural        \n",
       "    Loan_Status\n",
       "410 N          \n",
       "156 Y          \n",
       "186 Y          \n",
       "444 Y          \n",
       "184 N          \n",
       "309 N          \n",
       "370 N          \n",
       "562 Y          \n",
       "488 N          \n",
       "526 Y          "
      ]
     },
     "metadata": {},
     "output_type": "display_data"
    }
   ],
   "source": [
    "# Task 2-c: Find the top 10 men who graduated and had the highest applicant income\n",
    "\n",
    "\n",
    "df_decreasingorder <- df_nonull[order(df_nonull$ApplicantIncome, decreasing = TRUE),]\n",
    "\n",
    "highest <- subset( df_decreasingorder, df_decreasingorder$Education == 'Graduate')\n",
    "head(highest,10)\n"
   ]
  },
  {
   "cell_type": "code",
   "execution_count": 16,
   "id": "88d8e9ab",
   "metadata": {},
   "outputs": [
    {
     "data": {
      "text/html": [
       "18"
      ],
      "text/latex": [
       "18"
      ],
      "text/markdown": [
       "18"
      ],
      "text/plain": [
       "[1] 18"
      ]
     },
     "metadata": {},
     "output_type": "display_data"
    }
   ],
   "source": [
    "# Task 2-d: Find the number of self-employed male applicants from urban area \n",
    "\n",
    "selffromurban <- subset( df_nonull, df_nonull$Self_Employed == 'Yes' & df_nonull$Property_Area == 'Urban')\n",
    "nrow(selffromurban)"
   ]
  },
  {
   "cell_type": "markdown",
   "id": "1bcd55ea",
   "metadata": {},
   "source": [
    "# Task 3: Visualization (30 points)"
   ]
  },
  {
   "cell_type": "code",
   "execution_count": 17,
   "id": "f084bde3",
   "metadata": {},
   "outputs": [
    {
     "name": "stderr",
     "output_type": "stream",
     "text": [
      "Warning message:\n",
      "\"Ignoring unknown parameters: binwidth, bins, pad\""
     ]
    },
    {
     "data": {
      "image/png": "[encoded data removed]",
      "text/plain": [
       "plot without title"
      ]
     },
     "metadata": {},
     "output_type": "display_data"
    }
   ],
   "source": [
    "# Task 3-a Make a plot where married applicants are granted loans\n",
    "\n",
    "married_data <- subset( df_nonull, df_nonull$Married == \"Yes\")\n",
    "\n",
    "ggplot(data = married_data, aes(x = Loan_Status)) + geom_histogram(stat=\"count\")"
   ]
  },
  {
   "cell_type": "code",
   "execution_count": 18,
   "id": "7b66de38",
   "metadata": {},
   "outputs": [
    {
     "data": {
      "text/html": [
       "179"
      ],
      "text/latex": [
       "179"
      ],
      "text/markdown": [
       "179"
      ],
      "text/plain": [
       "[1] 179"
      ]
     },
     "metadata": {},
     "output_type": "display_data"
    },
    {
     "data": {
      "text/html": [
       "233"
      ],
      "text/latex": [
       "233"
      ],
      "text/markdown": [
       "233"
      ],
      "text/plain": [
       "[1] 233"
      ]
     },
     "metadata": {},
     "output_type": "display_data"
    },
    {
     "data": {
      "text/html": [
       "202"
      ],
      "text/latex": [
       "202"
      ],
      "text/markdown": [
       "202"
      ],
      "text/plain": [
       "[1] 202"
      ]
     },
     "metadata": {},
     "output_type": "display_data"
    },
    {
     "data": {
      "image/png": "[encoded data removed]",
      "text/plain": [
       "Plot with title \"Property Areas\""
      ]
     },
     "metadata": {},
     "output_type": "display_data"
    }
   ],
   "source": [
    "# Task 3-b Create a pie chart for Property_area and display percentages in legend respectively\n",
    "\n",
    "labels <- c(\"Rural\", \"Semiurban\",\"Urban\")\n",
    "df_nonull$Property_Area = factor(df_nonull$Property_Area, levels = c('Rural','Semiurban','Urban'), labels = c(1.0, 2.0 , 3.0 ))\n",
    " \n",
    "df_Rural <-  subset( df_duplicate, df_duplicate$Property_Area  == 'Rural' )\n",
    "count_rural <- nrow(df_Rural)\n",
    "count_rural\n",
    "\n",
    "df_Semiurban <-  subset( df_duplicate, df_duplicate$Property_Area  == 'Semiurban' )\n",
    "count_Semiurban <- nrow(df_Semiurban)\n",
    "count_Semiurban\n",
    "\n",
    "df_Urban <-  subset( df_duplicate, df_duplicate$Property_Area  == 'Urban' )\n",
    "count_Urban <- nrow(df_Urban)\n",
    "count_Urban\n",
    "\n",
    "counts <- list(count_rural, count_Semiurban, count_Urban)\n",
    "countspercent<- round(100*as.integer(counts)/sum(as.integer(counts)), 1)\n",
    "labels <- paste(labels, countspercent) \n",
    "\n",
    "pie(as.integer(counts), countspercent,\n",
    "    main = \"Property Areas\", col = rainbow(length(counts)))\n",
    "legend(\"topright\", labels, cex = 0.8, fill = rainbow(length(counts)))\n",
    "\n"
   ]
  },
  {
   "cell_type": "markdown",
   "id": "1e8f4db0",
   "metadata": {},
   "source": [
    "# Task 4: Insights from the data (20 points)\n",
    "Find out 'interesting' information from the dataset. Give two insights and Create a visualization for each of the insights. Explain in a few lines your reasoning. \n",
    "\n",
    "Your work's uniqueness and quality will be taken into account when evaluating your work (having a meaningful result and an aesthetic visualization). "
   ]
  },
  {
   "cell_type": "code",
   "execution_count": 19,
   "id": "9fc2b9b5",
   "metadata": {
    "scrolled": false
   },
   "outputs": [
    {
     "data": {
      "text/html": [
       "489"
      ],
      "text/latex": [
       "489"
      ],
      "text/markdown": [
       "489"
      ],
      "text/plain": [
       "[1] 489"
      ]
     },
     "metadata": {},
     "output_type": "display_data"
    },
    {
     "data": {
      "text/html": [
       "112"
      ],
      "text/latex": [
       "112"
      ],
      "text/markdown": [
       "112"
      ],
      "text/plain": [
       "[1] 112"
      ]
     },
     "metadata": {},
     "output_type": "display_data"
    },
    {
     "data": {
      "text/html": [
       "151"
      ],
      "text/latex": [
       "151"
      ],
      "text/markdown": [
       "151"
      ],
      "text/plain": [
       "[1] 151"
      ]
     },
     "metadata": {},
     "output_type": "display_data"
    },
    {
     "data": {
      "text/html": [
       "172"
      ],
      "text/latex": [
       "172"
      ],
      "text/markdown": [
       "172"
      ],
      "text/plain": [
       "[1] 172"
      ]
     },
     "metadata": {},
     "output_type": "display_data"
    },
    {
     "data": {
      "text/html": [
       "166"
      ],
      "text/latex": [
       "166"
      ],
      "text/markdown": [
       "166"
      ],
      "text/plain": [
       "[1] 166"
      ]
     },
     "metadata": {},
     "output_type": "display_data"
    },
    {
     "data": {
      "text/html": [
       "24"
      ],
      "text/latex": [
       "24"
      ],
      "text/markdown": [
       "24"
      ],
      "text/plain": [
       "[1] 24"
      ]
     },
     "metadata": {},
     "output_type": "display_data"
    },
    {
     "data": {
      "text/html": [
       "55"
      ],
      "text/latex": [
       "55"
      ],
      "text/markdown": [
       "55"
      ],
      "text/plain": [
       "[1] 55"
      ]
     },
     "metadata": {},
     "output_type": "display_data"
    },
    {
     "data": {
      "text/html": [
       "33"
      ],
      "text/latex": [
       "33"
      ],
      "text/markdown": [
       "33"
      ],
      "text/plain": [
       "[1] 33"
      ]
     },
     "metadata": {},
     "output_type": "display_data"
    },
    {
     "data": {
      "image/png": "[encoded data removed]",
      "text/plain": [
       "plot without title"
      ]
     },
     "metadata": {},
     "output_type": "display_data"
    },
    {
     "data": {
      "text/html": [
       "376"
      ],
      "text/latex": [
       "376"
      ],
      "text/markdown": [
       "376"
      ],
      "text/plain": [
       "[1] 376"
      ]
     },
     "metadata": {},
     "output_type": "display_data"
    },
    {
     "data": {
      "text/html": [
       "113"
      ],
      "text/latex": [
       "113"
      ],
      "text/markdown": [
       "113"
      ],
      "text/plain": [
       "[1] 113"
      ]
     },
     "metadata": {},
     "output_type": "display_data"
    },
    {
     "data": {
      "text/html": [
       "92"
      ],
      "text/latex": [
       "92"
      ],
      "text/markdown": [
       "92"
      ],
      "text/plain": [
       "[1] 92"
      ]
     },
     "metadata": {},
     "output_type": "display_data"
    },
    {
     "data": {
      "text/html": [
       "20"
      ],
      "text/latex": [
       "20"
      ],
      "text/markdown": [
       "20"
      ],
      "text/plain": [
       "[1] 20"
      ]
     },
     "metadata": {},
     "output_type": "display_data"
    },
    {
     "data": {
      "image/png": "[encoded data removed]",
      "text/plain": [
       "plot without title"
      ]
     },
     "metadata": {},
     "output_type": "display_data"
    },
    {
     "data": {
      "image/png": "[encoded data removed]",
      "text/plain": [
       "plot without title"
      ]
     },
     "metadata": {},
     "output_type": "display_data"
    }
   ],
   "source": [
    "# Code and explaination for Task4\n",
    "\n",
    "\n",
    "labels_gender <- c(\"Male\", \"Female\")\n",
    "df_nonull$Gender = factor(df_nonull$Gender, levels = c(\"Male\", \"Female\"), labels = c(1.0, 2.0 ))\n",
    "\n",
    "df_Gender_male <-  subset( df_duplicate, df_duplicate$Gender =='Male')\n",
    "count_male <- nrow(df_Gender_male)\n",
    "count_male\n",
    "\n",
    "df_Gender_female <-  subset( df_duplicate, df_duplicate$Gender =='Female')\n",
    "count_female <- nrow(df_Gender_female)\n",
    "count_female\n",
    "\n",
    "counts <- list(count_male,count_female)\n",
    "\n",
    "pie(as.integer(counts), labels_gender)\n",
    "\n",
    "#There are more number of male who took out loans\n",
    "\n",
    "\n",
    "labels_Married <- c(\"Yes\", \"No\")\n",
    "df_nonull$Married = factor(df_nonull$Married, levels = c(\"Male\", \"Female\"), labels = c(1.0, 2.0 ))\n",
    "\n",
    "labels_Education <- c(\"Graduate\", \"Not Graduate\")\n",
    "df_nonull$Education = factor(df_nonull$Education, levels = c(\"Graduate\", \"Not Graduate\"), labels = c(1.0, 2.0 ))\n",
    "\n",
    "labels_selfemployed <- c(\"Yes\", \"No\")\n",
    "df_nonull$Self_Employed = factor(df_nonull$Self_Employed, levels = c(\"Yes\", \"No\"), labels = c(1.0, 2.0 ))\n",
    "\n",
    "labels_propertyarea <- c(\"Rural\", \"Semiurban\",\"Urban\") \n",
    "df_nonull$Property_Area = factor(df_nonull$Property_Area, levels = c('Rural','Semiurban','Urban'), labels = c(1.0, 2.0 , 3.0 ))\n",
    "\n",
    "df_Gender_male_rural <-  subset( df_duplicate, df_duplicate$Gender =='Male' & df_duplicate$Property_Area == 'Rural')\n",
    "count_male_rural <- nrow(df_Gender_male_rural)\n",
    "count_male_rural\n",
    "\n",
    "df_Gender_male_semi <-  subset( df_duplicate, df_duplicate$Gender =='Male' & df_duplicate$Property_Area == 'Semiurban')\n",
    "count_male_semi <- nrow(df_Gender_male_semi)\n",
    "count_male_semi\n",
    "\n",
    "df_Gender_male_urban <-  subset( df_duplicate, df_duplicate$Gender =='Male' & df_duplicate$Property_Area == 'Urban')\n",
    "count_male_urban <- nrow(df_Gender_male_urban)\n",
    "count_male_urban\n",
    "\n",
    "df_Gender_female_rural <-  subset( df_duplicate, df_duplicate$Gender =='Female' & df_duplicate$Property_Area == 'Rural')\n",
    "count_female_rural <- nrow(df_Gender_female_rural)\n",
    "count_female_rural\n",
    "\n",
    "df_Gender_female_semi <-  subset ( df_duplicate, df_duplicate$Gender =='Female' & df_duplicate$Property_Area == 'Semiurban')\n",
    "count_female_semi <- nrow(df_Gender_female_semi)\n",
    "count_female_semi\n",
    "\n",
    "df_Gender_female_urban <-  subset( df_duplicate, df_duplicate$Gender =='Female' & df_duplicate$Property_Area == 'Urban')\n",
    "count_female_urban <- nrow(df_Gender_female_urban)\n",
    "count_female_urban\n",
    "\n",
    "counts <- list(count_male_rural,count_male_semi,count_male_urban,count_female_rural,count_female_semi,count_female_urban)\n",
    "labels_gender_area <- c(\"Male from Rural area\", \"Male from Semiurban area\", \"Male from Urban area\", \"Female from Rural area\", \"Female from Semiurban area\", \"Female from Urban area\")\n",
    "\n",
    "pie(as.integer(counts), labels_gender_area)\n",
    "\n",
    "\n",
    "#There are more men from urban and semiurban areas and very less from rural ares, where as more female are from semiurban areafollowed by \n",
    "#urban and then rural\n",
    "\n",
    "df_grad_male <-  subset( df_duplicate, df_duplicate$Gender =='Male' & df_duplicate$Education =='Graduate')\n",
    "malegrad_count <- nrow(df_grad_male)\n",
    "malegrad_count\n",
    "\n",
    "df_male_nograd <-  subset( df_duplicate, df_duplicate$Gender =='Male' & df_duplicate$Education =='Not Graduate')\n",
    "malenograd_count <- nrow(df_male_nograd)\n",
    "malenograd_count\n",
    "\n",
    "df_female_grad <-  subset( df_duplicate, df_duplicate$Gender =='Female' & df_duplicate$Education =='Graduate')\n",
    "femalegrad_count <- nrow(df_female_grad)\n",
    "femalegrad_count\n",
    "\n",
    "df_female_nograd <-  subset( df_duplicate, df_duplicate$Gender =='Female' & df_duplicate$Education =='Not Graduate')\n",
    "femalenograd_count <- nrow(df_female_nograd)\n",
    "femalenograd_count\n",
    "\n",
    "counts <- list(malegrad_count,malenograd_count,femalegrad_count,femalenograd_count)\n",
    "labels_grad <- c(\"Men who graduated\",\"Men who did not graduate\",\"Women who graduated\",\"Women who did not graduate\")\n",
    "\n",
    "pie(as.integer(counts), labels_grad)\n",
    "\n",
    "#More number of men who graduated than women who graduated"
   ]
  },
  {
   "cell_type": "code",
   "execution_count": null,
   "id": "9f292e42",
   "metadata": {},
   "outputs": [],
   "source": []
  }
 ],
 "metadata": {
  "kernelspec": {
   "display_name": "R",
   "language": "R",
   "name": "ir"
  },
  "language_info": {
   "codemirror_mode": "r",
   "file_extension": ".r",
   "mimetype": "text/x-r-source",
   "name": "R",
   "pygments_lexer": "r",
   "version": "3.6.1"
  }
 },
 "nbformat": 4,
 "nbformat_minor": 5
}
