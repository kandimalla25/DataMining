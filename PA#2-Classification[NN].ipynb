{
 "cells": [
  {
   "cell_type": "markdown",
   "metadata": {},
   "source": [
    "# PA 2: Classification - Nearest Neighbors"
   ]
  },
  {
   "cell_type": "markdown",
   "metadata": {},
   "source": [
    "## Student Details (1 Point)\n",
    "\n",
    "First Student Name and ID: ABC 1001XXXXXX\n",
    "\n",
    "Second Student Name and ID: XYZ 1001XXXXXX\n",
    "\n",
    "\n",
    "\n",
    "Notes: When submitting, fill your name and ID in this cell.  [1 point]\n",
    "\n",
    "Make sure to write about any 4-5 line to explain any kind of visualization\n",
    "\n",
    "Do not to forget to cite any external sources used by you."
   ]
  },
  {
   "cell_type": "markdown",
   "metadata": {},
   "source": [
    "## Programming Assignment Details (25 Points)\n",
    "\n",
    "For this assignment use Jupyter notebook, Panda, and scikit.\n",
    "* Load dataset_NN.csv dataset. [1 points]\n",
    "* Pre-processing. [3 points]\n",
    "* Select best 3 attributes for training and testing your model. [2 points]\n",
    "* Find the best K using elbow method. [3 points]\n",
    "* Split your dataset 75% for training, and 25% for testing the classifier. [2 points]\n",
    "* Use Euclidean distance.[3 points]\n",
    "* Test the classifier with three diferent numbers for neighbors and record the results.[3 points]\n",
    "* Use comments to explain your code and variable names.[2 points]\n",
    "* Calculate and print the confusion matrix, and the classification Report (includes:precision, recall, f1-score, and support) for all three different numbers. **Plot the Error rate vs. K-value**.[6 points]"
   ]
  },
  {
   "cell_type": "markdown",
   "metadata": {},
   "source": [
    "## Extra points will be given for adequately explained preprocessing and high accuracy above 80%(up to 10 points)"
   ]
  },
  {
   "cell_type": "markdown",
   "metadata": {},
   "source": [
    "## Report (22 Points)\n",
    "\n",
    "For each classification task you need to submit a report (PDF) that you have to:\n",
    "* Include a paragraph describing the contribution made by each team member\n",
    "* Describe the Nearest Neighbors method. [5 points]\n",
    "* Explain what was your criteria for selecting the three attributes. What other 3 attribute can you choose? [7 points]\n",
    "* Visualizations of the target variable w.r.t three most significant attributes in a 2D projection, and write your observations in 4 - 5 lines. [5 points]\n",
    "* Interpret and compare the results.[5 points]\n",
    "\n",
    "Do not to forget to cite your sources!"
   ]
  },
  {
   "cell_type": "markdown",
   "metadata": {},
   "source": [
    "## Programming Assignment Submission Instructions (2 Points)\n",
    "\n",
    "### Each file should be submitted separately, do not compress them\n",
    "\n",
    "For Decision Tree and Naive Bayes:\n",
    "1.\t'yourLastName_Last4digitsofyourID_DT.ipynb' (Report in markdown cells and code in code cells of Notebook preferred)\n",
    "2.\tReport in PDF (optional)\n",
    "\n",
    "For Nearest Neighbor:\n",
    "1.\t'yourLastName_Last4digitsofyourID_NN.ipynb' (Report in markdown cells and code in code cells of Notebook preferred)\n",
    "2.\tReport in PDF (optional)\n",
    "\n",
    "### <b>Please consult the TA before using any other packages apart from sklearn,numpy,pandas, matplotlib and seaborn<b>"
   ]
  }
 ],
 "metadata": {
  "kernelspec": {
   "display_name": "Python 3",
   "language": "python",
   "name": "python3"
  },
  "language_info": {
   "codemirror_mode": {
    "name": "ipython",
    "version": 3
   },
   "file_extension": ".py",
   "mimetype": "text/x-python",
   "name": "python",
   "nbconvert_exporter": "python",
   "pygments_lexer": "ipython3",
   "version": "3.8.8"
  }
 },
 "nbformat": 4,
 "nbformat_minor": 4
}
